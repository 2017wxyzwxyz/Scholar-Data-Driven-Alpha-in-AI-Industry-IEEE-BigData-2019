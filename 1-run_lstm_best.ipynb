{
 "cells": [
  {
   "cell_type": "code",
   "execution_count": 1,
   "metadata": {},
   "outputs": [],
   "source": [
    "import warnings\n",
    "warnings.filterwarnings(\"ignore\")"
   ]
  },
  {
   "cell_type": "code",
   "execution_count": 2,
   "metadata": {
    "scrolled": true
   },
   "outputs": [
    {
     "name": "stderr",
     "output_type": "stream",
     "text": [
      "Using TensorFlow backend.\n"
     ]
    }
   ],
   "source": [
    "import pandas as pd\n",
    "import numpy as np\n",
    "import time\n",
    "\n",
    "from ml_model_lstm_best import run_model\n",
    "from ml_model_lstm_best import long_only_strategy_daily\n",
    "from ml_model_lstm_best import long_only_strategy_monthly\n",
    "from  matplotlib import pyplot as plt\n",
    "%matplotlib inline"
   ]
  },
  {
   "cell_type": "code",
   "execution_count": 3,
   "metadata": {},
   "outputs": [
    {
     "name": "stdout",
     "output_type": "stream",
     "text": [
      "1.14.0\n"
     ]
    }
   ],
   "source": [
    "import tensorflow\n",
    "print (tensorflow.__version__)"
   ]
  },
  {
   "cell_type": "code",
   "execution_count": 4,
   "metadata": {},
   "outputs": [],
   "source": [
    "df = pd.read_csv('data/analysis_model_ready_0721.csv')"
   ]
  },
  {
   "cell_type": "code",
   "execution_count": 5,
   "metadata": {},
   "outputs": [
    {
     "data": {
      "text/html": [
       "<div>\n",
       "<style scoped>\n",
       "    .dataframe tbody tr th:only-of-type {\n",
       "        vertical-align: middle;\n",
       "    }\n",
       "\n",
       "    .dataframe tbody tr th {\n",
       "        vertical-align: top;\n",
       "    }\n",
       "\n",
       "    .dataframe thead th {\n",
       "        text-align: right;\n",
       "    }\n",
       "</style>\n",
       "<table border=\"1\" class=\"dataframe\">\n",
       "  <thead>\n",
       "    <tr style=\"text-align: right;\">\n",
       "      <th></th>\n",
       "      <th>paper_month</th>\n",
       "      <th>ticker</th>\n",
       "      <th>total_count</th>\n",
       "      <th>total_count_cumsum</th>\n",
       "      <th>total_citation</th>\n",
       "      <th>total_citation_cumsum</th>\n",
       "      <th>patent_count</th>\n",
       "      <th>patent_count_cumsum</th>\n",
       "      <th>patent_citation</th>\n",
       "      <th>patent_citation_cumsum</th>\n",
       "      <th>...</th>\n",
       "      <th>ps</th>\n",
       "      <th>pb</th>\n",
       "      <th>eps</th>\n",
       "      <th>roa</th>\n",
       "      <th>roe</th>\n",
       "      <th>npm</th>\n",
       "      <th>quick</th>\n",
       "      <th>current</th>\n",
       "      <th>debt_equity</th>\n",
       "      <th>forward_monthly_return</th>\n",
       "    </tr>\n",
       "  </thead>\n",
       "  <tbody>\n",
       "    <tr>\n",
       "      <th>0</th>\n",
       "      <td>2002-04</td>\n",
       "      <td>AAPL</td>\n",
       "      <td>2</td>\n",
       "      <td>391</td>\n",
       "      <td>92</td>\n",
       "      <td>7829</td>\n",
       "      <td>1</td>\n",
       "      <td>261</td>\n",
       "      <td>78</td>\n",
       "      <td>5314</td>\n",
       "      <td>...</td>\n",
       "      <td>5.606148</td>\n",
       "      <td>2.087990</td>\n",
       "      <td>0.11</td>\n",
       "      <td>0.006386</td>\n",
       "      <td>0.009965</td>\n",
       "      <td>0.026756</td>\n",
       "      <td>3.152721</td>\n",
       "      <td>3.167934</td>\n",
       "      <td>0.560538</td>\n",
       "      <td>-0.039967</td>\n",
       "    </tr>\n",
       "    <tr>\n",
       "      <th>1</th>\n",
       "      <td>2002-04</td>\n",
       "      <td>ACN</td>\n",
       "      <td>1</td>\n",
       "      <td>94</td>\n",
       "      <td>34</td>\n",
       "      <td>878</td>\n",
       "      <td>0</td>\n",
       "      <td>48</td>\n",
       "      <td>33</td>\n",
       "      <td>660</td>\n",
       "      <td>...</td>\n",
       "      <td>2.665986</td>\n",
       "      <td>10.699305</td>\n",
       "      <td>0.03</td>\n",
       "      <td>0.002041</td>\n",
       "      <td>0.040544</td>\n",
       "      <td>0.003188</td>\n",
       "      <td>1.283192</td>\n",
       "      <td>1.283192</td>\n",
       "      <td>16.696321</td>\n",
       "      <td>-0.027519</td>\n",
       "    </tr>\n",
       "    <tr>\n",
       "      <th>2</th>\n",
       "      <td>2002-04</td>\n",
       "      <td>ADBE</td>\n",
       "      <td>1</td>\n",
       "      <td>138</td>\n",
       "      <td>19</td>\n",
       "      <td>870</td>\n",
       "      <td>1</td>\n",
       "      <td>128</td>\n",
       "      <td>19</td>\n",
       "      <td>829</td>\n",
       "      <td>...</td>\n",
       "      <td>32.316759</td>\n",
       "      <td>12.556044</td>\n",
       "      <td>0.21</td>\n",
       "      <td>0.050314</td>\n",
       "      <td>0.072237</td>\n",
       "      <td>0.185923</td>\n",
       "      <td>2.750059</td>\n",
       "      <td>2.750059</td>\n",
       "      <td>0.435716</td>\n",
       "      <td>-0.096597</td>\n",
       "    </tr>\n",
       "    <tr>\n",
       "      <th>3</th>\n",
       "      <td>2002-04</td>\n",
       "      <td>ADI</td>\n",
       "      <td>0</td>\n",
       "      <td>11</td>\n",
       "      <td>0</td>\n",
       "      <td>60</td>\n",
       "      <td>0</td>\n",
       "      <td>4</td>\n",
       "      <td>0</td>\n",
       "      <td>54</td>\n",
       "      <td>...</td>\n",
       "      <td>40.672941</td>\n",
       "      <td>5.543896</td>\n",
       "      <td>0.07</td>\n",
       "      <td>0.005023</td>\n",
       "      <td>0.008564</td>\n",
       "      <td>0.062829</td>\n",
       "      <td>6.380681</td>\n",
       "      <td>6.853139</td>\n",
       "      <td>0.704922</td>\n",
       "      <td>-0.009199</td>\n",
       "    </tr>\n",
       "    <tr>\n",
       "      <th>4</th>\n",
       "      <td>2002-04</td>\n",
       "      <td>ADSK</td>\n",
       "      <td>0</td>\n",
       "      <td>77</td>\n",
       "      <td>9</td>\n",
       "      <td>471</td>\n",
       "      <td>0</td>\n",
       "      <td>64</td>\n",
       "      <td>9</td>\n",
       "      <td>378</td>\n",
       "      <td>...</td>\n",
       "      <td>8.980703</td>\n",
       "      <td>4.310115</td>\n",
       "      <td>0.39</td>\n",
       "      <td>0.024122</td>\n",
       "      <td>0.041127</td>\n",
       "      <td>0.085693</td>\n",
       "      <td>1.472736</td>\n",
       "      <td>1.521296</td>\n",
       "      <td>0.704931</td>\n",
       "      <td>-0.265905</td>\n",
       "    </tr>\n",
       "  </tbody>\n",
       "</table>\n",
       "<p>5 rows × 61 columns</p>\n",
       "</div>"
      ],
      "text/plain": [
       "  paper_month ticker  total_count  total_count_cumsum  total_citation  \\\n",
       "0     2002-04   AAPL            2                 391              92   \n",
       "1     2002-04    ACN            1                  94              34   \n",
       "2     2002-04   ADBE            1                 138              19   \n",
       "3     2002-04    ADI            0                  11               0   \n",
       "4     2002-04   ADSK            0                  77               9   \n",
       "\n",
       "   total_citation_cumsum  patent_count  patent_count_cumsum  patent_citation  \\\n",
       "0                   7829             1                  261               78   \n",
       "1                    878             0                   48               33   \n",
       "2                    870             1                  128               19   \n",
       "3                     60             0                    4                0   \n",
       "4                    471             0                   64                9   \n",
       "\n",
       "   patent_citation_cumsum  ...         ps         pb   eps       roa  \\\n",
       "0                    5314  ...   5.606148   2.087990  0.11  0.006386   \n",
       "1                     660  ...   2.665986  10.699305  0.03  0.002041   \n",
       "2                     829  ...  32.316759  12.556044  0.21  0.050314   \n",
       "3                      54  ...  40.672941   5.543896  0.07  0.005023   \n",
       "4                     378  ...   8.980703   4.310115  0.39  0.024122   \n",
       "\n",
       "        roe       npm     quick   current  debt_equity  forward_monthly_return  \n",
       "0  0.009965  0.026756  3.152721  3.167934     0.560538               -0.039967  \n",
       "1  0.040544  0.003188  1.283192  1.283192    16.696321               -0.027519  \n",
       "2  0.072237  0.185923  2.750059  2.750059     0.435716               -0.096597  \n",
       "3  0.008564  0.062829  6.380681  6.853139     0.704922               -0.009199  \n",
       "4  0.041127  0.085693  1.472736  1.521296     0.704931               -0.265905  \n",
       "\n",
       "[5 rows x 61 columns]"
      ]
     },
     "execution_count": 5,
     "metadata": {},
     "output_type": "execute_result"
    }
   ],
   "source": [
    "df.head()"
   ]
  },
  {
   "cell_type": "code",
   "execution_count": 6,
   "metadata": {},
   "outputs": [
    {
     "data": {
      "text/plain": [
       "(15990, 61)"
      ]
     },
     "execution_count": 6,
     "metadata": {},
     "output_type": "execute_result"
    }
   ],
   "source": [
    "df.shape"
   ]
  },
  {
   "cell_type": "code",
   "execution_count": 7,
   "metadata": {},
   "outputs": [],
   "source": [
    "df['monthly_return'] = df.forward_monthly_return"
   ]
  },
  {
   "cell_type": "code",
   "execution_count": 8,
   "metadata": {},
   "outputs": [
    {
     "data": {
      "text/plain": [
       "Index(['paper_month', 'ticker', 'total_count', 'total_count_cumsum',\n",
       "       'total_citation', 'total_citation_cumsum', 'patent_count',\n",
       "       'patent_count_cumsum', 'patent_citation', 'patent_citation_cumsum',\n",
       "       'journal_count', 'journal_count_cumsum', 'journal_citation',\n",
       "       'journal_citation_cumsum', 'conference_count',\n",
       "       'conference_count_cumsum', 'conference_citation',\n",
       "       'conference_citation_cumsum', 'Books_count', 'Books_count_cumsum',\n",
       "       'Books_citation', 'Books_citation_cumsum', 'total_average_citation',\n",
       "       'total_max_citation', 'patent_average_citation', 'patent_max_citation',\n",
       "       'journal_average_citation', 'journal_max_citation',\n",
       "       'conference_average_citation', 'conference_max_citation',\n",
       "       'Books_average_citation', 'Books_max_citation', 'total_count_relative',\n",
       "       'total_count_relative_cumsum', 'patent_count_relative',\n",
       "       'patent_count_relative_cumsum', 'journal_count_relative',\n",
       "       'journal_count_relative_cumsum', 'conference_count_relative',\n",
       "       'conference_count_relative_cumsum', 'Books_count_relative',\n",
       "       'Books_count_relative_cumsum', 'tic', 'lag_date', 'date', 'gsector',\n",
       "       'ggroup', 'gind', 'gsubind', 'adj_close', 'pe', 'ps', 'pb', 'eps',\n",
       "       'roa', 'roe', 'npm', 'quick', 'current', 'debt_equity',\n",
       "       'forward_monthly_return', 'monthly_return'],\n",
       "      dtype='object')"
      ]
     },
     "execution_count": 8,
     "metadata": {},
     "output_type": "execute_result"
    }
   ],
   "source": [
    "df.columns"
   ]
  },
  {
   "cell_type": "code",
   "execution_count": 9,
   "metadata": {},
   "outputs": [],
   "source": [
    "features_column_alternative =[\n",
    "       'total_count', 'total_count_cumsum',\n",
    "       'total_citation', 'total_citation_cumsum', 'patent_count',\n",
    "       'patent_count_cumsum', 'patent_citation', 'patent_citation_cumsum',\n",
    "       'journal_count', 'journal_count_cumsum', 'journal_citation',\n",
    "       'journal_citation_cumsum', 'conference_count',\n",
    "       'conference_count_cumsum', 'conference_citation',\n",
    "       'conference_citation_cumsum', 'Books_count', 'Books_count_cumsum',\n",
    "       'Books_citation', 'Books_citation_cumsum', 'total_average_citation',\n",
    "       'total_max_citation', 'patent_average_citation', 'patent_max_citation',\n",
    "       'journal_average_citation', 'journal_max_citation',\n",
    "       'conference_average_citation', 'conference_max_citation',\n",
    "       'Books_average_citation', 'Books_max_citation', 'total_count_relative',\n",
    "       'total_count_relative_cumsum', 'patent_count_relative',\n",
    "       'patent_count_relative_cumsum', 'journal_count_relative',\n",
    "       'journal_count_relative_cumsum', 'conference_count_relative',\n",
    "       'conference_count_relative_cumsum', 'Books_count_relative',\n",
    "       'Books_count_relative_cumsum'\n",
    "]"
   ]
  },
  {
   "cell_type": "code",
   "execution_count": 10,
   "metadata": {},
   "outputs": [
    {
     "data": {
      "text/plain": [
       "40"
      ]
     },
     "execution_count": 10,
     "metadata": {},
     "output_type": "execute_result"
    }
   ],
   "source": [
    "len(features_column_alternative)"
   ]
  },
  {
   "cell_type": "code",
   "execution_count": 11,
   "metadata": {},
   "outputs": [],
   "source": [
    "features_column_financial=['pe', 'ps', 'pb', 'eps', 'roa', 'roe',\n",
    "       'npm', 'quick', 'current', 'debt_equity']"
   ]
  },
  {
   "cell_type": "code",
   "execution_count": 12,
   "metadata": {},
   "outputs": [
    {
     "data": {
      "text/plain": [
       "10"
      ]
     },
     "execution_count": 12,
     "metadata": {},
     "output_type": "execute_result"
    }
   ],
   "source": [
    "len(features_column_financial)"
   ]
  },
  {
   "cell_type": "code",
   "execution_count": 13,
   "metadata": {},
   "outputs": [],
   "source": [
    "features_column_all = features_column_alternative+features_column_financial"
   ]
  },
  {
   "cell_type": "code",
   "execution_count": 14,
   "metadata": {},
   "outputs": [
    {
     "data": {
      "text/plain": [
       "50"
      ]
     },
     "execution_count": 14,
     "metadata": {},
     "output_type": "execute_result"
    }
   ],
   "source": [
    "len(features_column_all)"
   ]
  },
  {
   "cell_type": "markdown",
   "metadata": {},
   "source": [
    "# Prepare Data"
   ]
  },
  {
   "cell_type": "markdown",
   "metadata": {},
   "source": [
    "## 1. Get Unique Ticker"
   ]
  },
  {
   "cell_type": "code",
   "execution_count": 15,
   "metadata": {},
   "outputs": [],
   "source": [
    "unique_ticker = sorted(df.ticker.unique())"
   ]
  },
  {
   "cell_type": "code",
   "execution_count": 16,
   "metadata": {},
   "outputs": [
    {
     "data": {
      "text/plain": [
       "104"
      ]
     },
     "execution_count": 16,
     "metadata": {},
     "output_type": "execute_result"
    }
   ],
   "source": [
    "len(unique_ticker)"
   ]
  },
  {
   "cell_type": "markdown",
   "metadata": {},
   "source": [
    "## 2. Get Unique Datatime (monthly)"
   ]
  },
  {
   "cell_type": "code",
   "execution_count": 17,
   "metadata": {},
   "outputs": [],
   "source": [
    "df.date=pd.to_datetime(df['date'])\n",
    "\n",
    "unique_datetime=[x.strftime(\"%Y-%m-%d\") for x in df.date.dt.date.unique()]"
   ]
  },
  {
   "cell_type": "code",
   "execution_count": 18,
   "metadata": {},
   "outputs": [
    {
     "data": {
      "text/plain": [
       "196"
      ]
     },
     "execution_count": 18,
     "metadata": {},
     "output_type": "execute_result"
    }
   ],
   "source": [
    "len(unique_datetime)"
   ]
  },
  {
   "cell_type": "code",
   "execution_count": 19,
   "metadata": {},
   "outputs": [
    {
     "data": {
      "text/plain": [
       "16.333333333333332"
      ]
     },
     "execution_count": 19,
     "metadata": {},
     "output_type": "execute_result"
    }
   ],
   "source": [
    "len(unique_datetime)/12"
   ]
  },
  {
   "cell_type": "code",
   "execution_count": 20,
   "metadata": {},
   "outputs": [
    {
     "data": {
      "text/plain": [
       "'2005-11-30'"
      ]
     },
     "execution_count": 20,
     "metadata": {},
     "output_type": "execute_result"
    }
   ],
   "source": [
    "unique_datetime[42]"
   ]
  },
  {
   "cell_type": "code",
   "execution_count": 21,
   "metadata": {},
   "outputs": [
    {
     "data": {
      "text/plain": [
       "'2005-01-31'"
      ]
     },
     "execution_count": 21,
     "metadata": {},
     "output_type": "execute_result"
    }
   ],
   "source": [
    " '2005-01-31'"
   ]
  },
  {
   "cell_type": "code",
   "execution_count": 22,
   "metadata": {},
   "outputs": [],
   "source": [
    "#unique_datetime"
   ]
  },
  {
   "cell_type": "markdown",
   "metadata": {},
   "source": [
    "## 3. Get Trade Month"
   ]
  },
  {
   "cell_type": "code",
   "execution_count": 23,
   "metadata": {},
   "outputs": [],
   "source": [
    "trade_month = unique_datetime[42:]"
   ]
  },
  {
   "cell_type": "code",
   "execution_count": 24,
   "metadata": {},
   "outputs": [],
   "source": [
    "#trade_month"
   ]
  },
  {
   "cell_type": "code",
   "execution_count": 25,
   "metadata": {},
   "outputs": [
    {
     "data": {
      "text/plain": [
       "154"
      ]
     },
     "execution_count": 25,
     "metadata": {},
     "output_type": "execute_result"
    }
   ],
   "source": [
    "len(trade_month)"
   ]
  },
  {
   "cell_type": "code",
   "execution_count": 26,
   "metadata": {},
   "outputs": [
    {
     "data": {
      "text/plain": [
       "12.833333333333334"
      ]
     },
     "execution_count": 26,
     "metadata": {},
     "output_type": "execute_result"
    }
   ],
   "source": [
    "len(trade_month)/12"
   ]
  },
  {
   "cell_type": "code",
   "execution_count": 27,
   "metadata": {},
   "outputs": [
    {
     "data": {
      "text/plain": [
       "103.83116883116882"
      ]
     },
     "execution_count": 27,
     "metadata": {},
     "output_type": "execute_result"
    }
   ],
   "source": [
    "df.shape[0]/154"
   ]
  },
  {
   "cell_type": "markdown",
   "metadata": {},
   "source": [
    "## 4. Get tic Monthly Return"
   ]
  },
  {
   "cell_type": "code",
   "execution_count": 28,
   "metadata": {},
   "outputs": [],
   "source": [
    "tic_monthly_return=df.pivot('date','ticker','monthly_return')\n",
    "tic_monthly_return=tic_monthly_return.reset_index()\n",
    "tic_monthly_return.index=tic_monthly_return.date\n",
    "del tic_monthly_return['date']"
   ]
  },
  {
   "cell_type": "code",
   "execution_count": 29,
   "metadata": {},
   "outputs": [
    {
     "data": {
      "text/html": [
       "<div>\n",
       "<style scoped>\n",
       "    .dataframe tbody tr th:only-of-type {\n",
       "        vertical-align: middle;\n",
       "    }\n",
       "\n",
       "    .dataframe tbody tr th {\n",
       "        vertical-align: top;\n",
       "    }\n",
       "\n",
       "    .dataframe thead th {\n",
       "        text-align: right;\n",
       "    }\n",
       "</style>\n",
       "<table border=\"1\" class=\"dataframe\">\n",
       "  <thead>\n",
       "    <tr style=\"text-align: right;\">\n",
       "      <th>ticker</th>\n",
       "      <th>AAPL</th>\n",
       "      <th>ACN</th>\n",
       "      <th>ADBE</th>\n",
       "      <th>ADI</th>\n",
       "      <th>ADSK</th>\n",
       "      <th>AKAM</th>\n",
       "      <th>AMAT</th>\n",
       "      <th>AMD</th>\n",
       "      <th>AMKR</th>\n",
       "      <th>AMZN</th>\n",
       "      <th>...</th>\n",
       "      <th>TER</th>\n",
       "      <th>TXN</th>\n",
       "      <th>UIS</th>\n",
       "      <th>V</th>\n",
       "      <th>VECO</th>\n",
       "      <th>VMW</th>\n",
       "      <th>VRSN</th>\n",
       "      <th>VSAT</th>\n",
       "      <th>XLNX</th>\n",
       "      <th>XRX</th>\n",
       "    </tr>\n",
       "    <tr>\n",
       "      <th>date</th>\n",
       "      <th></th>\n",
       "      <th></th>\n",
       "      <th></th>\n",
       "      <th></th>\n",
       "      <th></th>\n",
       "      <th></th>\n",
       "      <th></th>\n",
       "      <th></th>\n",
       "      <th></th>\n",
       "      <th></th>\n",
       "      <th></th>\n",
       "      <th></th>\n",
       "      <th></th>\n",
       "      <th></th>\n",
       "      <th></th>\n",
       "      <th></th>\n",
       "      <th></th>\n",
       "      <th></th>\n",
       "      <th></th>\n",
       "      <th></th>\n",
       "      <th></th>\n",
       "    </tr>\n",
       "  </thead>\n",
       "  <tbody>\n",
       "    <tr>\n",
       "      <th>2002-04-30</th>\n",
       "      <td>-0.039967</td>\n",
       "      <td>-0.027519</td>\n",
       "      <td>-0.096597</td>\n",
       "      <td>-0.009199</td>\n",
       "      <td>-0.265905</td>\n",
       "      <td>NaN</td>\n",
       "      <td>-0.087993</td>\n",
       "      <td>0.022361</td>\n",
       "      <td>NaN</td>\n",
       "      <td>0.092271</td>\n",
       "      <td>...</td>\n",
       "      <td>-0.178149</td>\n",
       "      <td>-0.073068</td>\n",
       "      <td>-0.152593</td>\n",
       "      <td>NaN</td>\n",
       "      <td>-0.016504</td>\n",
       "      <td>NaN</td>\n",
       "      <td>NaN</td>\n",
       "      <td>NaN</td>\n",
       "      <td>-0.066208</td>\n",
       "      <td>0.013559</td>\n",
       "    </tr>\n",
       "    <tr>\n",
       "      <th>2002-05-31</th>\n",
       "      <td>-0.239485</td>\n",
       "      <td>-0.088729</td>\n",
       "      <td>-0.210526</td>\n",
       "      <td>-0.188968</td>\n",
       "      <td>-0.018519</td>\n",
       "      <td>NaN</td>\n",
       "      <td>-0.142471</td>\n",
       "      <td>-0.149606</td>\n",
       "      <td>-0.581708</td>\n",
       "      <td>-0.108612</td>\n",
       "      <td>...</td>\n",
       "      <td>-0.132201</td>\n",
       "      <td>-0.173352</td>\n",
       "      <td>-0.213287</td>\n",
       "      <td>NaN</td>\n",
       "      <td>-0.206959</td>\n",
       "      <td>NaN</td>\n",
       "      <td>NaN</td>\n",
       "      <td>NaN</td>\n",
       "      <td>-0.363868</td>\n",
       "      <td>-0.222965</td>\n",
       "    </tr>\n",
       "    <tr>\n",
       "      <th>2002-06-28</th>\n",
       "      <td>-0.138826</td>\n",
       "      <td>-0.131579</td>\n",
       "      <td>-0.159298</td>\n",
       "      <td>-0.188552</td>\n",
       "      <td>-0.027170</td>\n",
       "      <td>NaN</td>\n",
       "      <td>-0.218191</td>\n",
       "      <td>-0.173868</td>\n",
       "      <td>-0.366559</td>\n",
       "      <td>-0.110215</td>\n",
       "      <td>...</td>\n",
       "      <td>-0.361702</td>\n",
       "      <td>-0.023207</td>\n",
       "      <td>-0.164444</td>\n",
       "      <td>NaN</td>\n",
       "      <td>-0.411510</td>\n",
       "      <td>NaN</td>\n",
       "      <td>NaN</td>\n",
       "      <td>NaN</td>\n",
       "      <td>-0.144449</td>\n",
       "      <td>-0.002869</td>\n",
       "    </tr>\n",
       "    <tr>\n",
       "      <th>2002-07-31</th>\n",
       "      <td>-0.033421</td>\n",
       "      <td>-0.003030</td>\n",
       "      <td>-0.161102</td>\n",
       "      <td>0.000000</td>\n",
       "      <td>0.031808</td>\n",
       "      <td>NaN</td>\n",
       "      <td>-0.101547</td>\n",
       "      <td>0.102117</td>\n",
       "      <td>-0.428934</td>\n",
       "      <td>0.033266</td>\n",
       "      <td>...</td>\n",
       "      <td>-0.156667</td>\n",
       "      <td>-0.149028</td>\n",
       "      <td>0.183511</td>\n",
       "      <td>NaN</td>\n",
       "      <td>-0.036765</td>\n",
       "      <td>NaN</td>\n",
       "      <td>NaN</td>\n",
       "      <td>NaN</td>\n",
       "      <td>0.006774</td>\n",
       "      <td>0.008633</td>\n",
       "    </tr>\n",
       "    <tr>\n",
       "      <th>2002-08-30</th>\n",
       "      <td>-0.016949</td>\n",
       "      <td>-0.131915</td>\n",
       "      <td>-0.049751</td>\n",
       "      <td>-0.182573</td>\n",
       "      <td>-0.047368</td>\n",
       "      <td>NaN</td>\n",
       "      <td>-0.135479</td>\n",
       "      <td>-0.396610</td>\n",
       "      <td>0.057778</td>\n",
       "      <td>0.066265</td>\n",
       "      <td>...</td>\n",
       "      <td>-0.241107</td>\n",
       "      <td>-0.250254</td>\n",
       "      <td>-0.213483</td>\n",
       "      <td>NaN</td>\n",
       "      <td>-0.175573</td>\n",
       "      <td>NaN</td>\n",
       "      <td>NaN</td>\n",
       "      <td>NaN</td>\n",
       "      <td>-0.180228</td>\n",
       "      <td>-0.293866</td>\n",
       "    </tr>\n",
       "  </tbody>\n",
       "</table>\n",
       "<p>5 rows × 104 columns</p>\n",
       "</div>"
      ],
      "text/plain": [
       "ticker          AAPL       ACN      ADBE       ADI      ADSK  AKAM      AMAT  \\\n",
       "date                                                                           \n",
       "2002-04-30 -0.039967 -0.027519 -0.096597 -0.009199 -0.265905   NaN -0.087993   \n",
       "2002-05-31 -0.239485 -0.088729 -0.210526 -0.188968 -0.018519   NaN -0.142471   \n",
       "2002-06-28 -0.138826 -0.131579 -0.159298 -0.188552 -0.027170   NaN -0.218191   \n",
       "2002-07-31 -0.033421 -0.003030 -0.161102  0.000000  0.031808   NaN -0.101547   \n",
       "2002-08-30 -0.016949 -0.131915 -0.049751 -0.182573 -0.047368   NaN -0.135479   \n",
       "\n",
       "ticker           AMD      AMKR      AMZN  ...       TER       TXN       UIS  \\\n",
       "date                                      ...                                 \n",
       "2002-04-30  0.022361       NaN  0.092271  ... -0.178149 -0.073068 -0.152593   \n",
       "2002-05-31 -0.149606 -0.581708 -0.108612  ... -0.132201 -0.173352 -0.213287   \n",
       "2002-06-28 -0.173868 -0.366559 -0.110215  ... -0.361702 -0.023207 -0.164444   \n",
       "2002-07-31  0.102117 -0.428934  0.033266  ... -0.156667 -0.149028  0.183511   \n",
       "2002-08-30 -0.396610  0.057778  0.066265  ... -0.241107 -0.250254 -0.213483   \n",
       "\n",
       "ticker       V      VECO  VMW  VRSN  VSAT      XLNX       XRX  \n",
       "date                                                           \n",
       "2002-04-30 NaN -0.016504  NaN   NaN   NaN -0.066208  0.013559  \n",
       "2002-05-31 NaN -0.206959  NaN   NaN   NaN -0.363868 -0.222965  \n",
       "2002-06-28 NaN -0.411510  NaN   NaN   NaN -0.144449 -0.002869  \n",
       "2002-07-31 NaN -0.036765  NaN   NaN   NaN  0.006774  0.008633  \n",
       "2002-08-30 NaN -0.175573  NaN   NaN   NaN -0.180228 -0.293866  \n",
       "\n",
       "[5 rows x 104 columns]"
      ]
     },
     "execution_count": 29,
     "metadata": {},
     "output_type": "execute_result"
    }
   ],
   "source": [
    "tic_monthly_return.head()"
   ]
  },
  {
   "cell_type": "code",
   "execution_count": 30,
   "metadata": {},
   "outputs": [],
   "source": [
    "tic_monthly_return=tic_monthly_return[tic_monthly_return.index>=unique_datetime[42]]"
   ]
  },
  {
   "cell_type": "code",
   "execution_count": 31,
   "metadata": {},
   "outputs": [
    {
     "data": {
      "text/plain": [
       "(154, 104)"
      ]
     },
     "execution_count": 31,
     "metadata": {},
     "output_type": "execute_result"
    }
   ],
   "source": [
    "tic_monthly_return.shape"
   ]
  },
  {
   "cell_type": "markdown",
   "metadata": {},
   "source": [
    "## 5. Get Equally Portfolio Monthly Return"
   ]
  },
  {
   "cell_type": "markdown",
   "metadata": {},
   "source": [
    "## 6. Get Daily price"
   ]
  },
  {
   "cell_type": "code",
   "execution_count": 32,
   "metadata": {},
   "outputs": [],
   "source": [
    "#daily_price = pd.read_csv(\"data/adj_close_price_2002_2018.csv\")\n",
    "#daily_price = daily_price.pivot('date', 'tic', 'adj_close')\n",
    "#daily_price=daily_price[unique_ticker]\n",
    "#daily_price.to_excel('data/daily_price.xlsx','Sheet1')"
   ]
  },
  {
   "cell_type": "code",
   "execution_count": 33,
   "metadata": {},
   "outputs": [
    {
     "data": {
      "text/plain": [
       "'\\ndaily_price = pd.read_csv(\"data/adj_close_price_2002_2018_0721.csv\")\\ndaily_price = daily_price.pivot(\\'date\\', \\'tic\\', \\'adj_close\\')\\ndaily_price=daily_price[unique_ticker]\\n#daily_return = (daily_price.shift(-1)-daily_price)/daily_price\\ndaily_return=daily_price.pct_change()\\ndaily_return = daily_return[daily_return.index>=trade_month[0]]\\ndaily_return.to_excel(\\'data/daily_return_0721.xlsx\\',\\'Sheet1\\')'"
      ]
     },
     "execution_count": 33,
     "metadata": {},
     "output_type": "execute_result"
    }
   ],
   "source": [
    "'''\n",
    "daily_price = pd.read_csv(\"data/adj_close_price_2002_2018_0721.csv\")\n",
    "daily_price = daily_price.pivot('date', 'tic', 'adj_close')\n",
    "daily_price=daily_price[unique_ticker]\n",
    "#daily_return = (daily_price.shift(-1)-daily_price)/daily_price\n",
    "daily_return=daily_price.pct_change()\n",
    "daily_return = daily_return[daily_return.index>=trade_month[0]]\n",
    "daily_return.to_excel('data/daily_return_0721.xlsx','Sheet1')'''\n"
   ]
  },
  {
   "cell_type": "code",
   "execution_count": 34,
   "metadata": {},
   "outputs": [],
   "source": [
    "daily_return=pd.read_excel('data/daily_return_0721.xlsx','Sheet1',index_col=0)"
   ]
  },
  {
   "cell_type": "code",
   "execution_count": 35,
   "metadata": {},
   "outputs": [
    {
     "data": {
      "text/html": [
       "<div>\n",
       "<style scoped>\n",
       "    .dataframe tbody tr th:only-of-type {\n",
       "        vertical-align: middle;\n",
       "    }\n",
       "\n",
       "    .dataframe tbody tr th {\n",
       "        vertical-align: top;\n",
       "    }\n",
       "\n",
       "    .dataframe thead th {\n",
       "        text-align: right;\n",
       "    }\n",
       "</style>\n",
       "<table border=\"1\" class=\"dataframe\">\n",
       "  <thead>\n",
       "    <tr style=\"text-align: right;\">\n",
       "      <th></th>\n",
       "      <th>AAPL</th>\n",
       "      <th>ACN</th>\n",
       "      <th>ADBE</th>\n",
       "      <th>ADI</th>\n",
       "      <th>ADSK</th>\n",
       "      <th>AKAM</th>\n",
       "      <th>AMAT</th>\n",
       "      <th>AMD</th>\n",
       "      <th>AMKR</th>\n",
       "      <th>AMZN</th>\n",
       "      <th>...</th>\n",
       "      <th>TER</th>\n",
       "      <th>TXN</th>\n",
       "      <th>UIS</th>\n",
       "      <th>V</th>\n",
       "      <th>VECO</th>\n",
       "      <th>VMW</th>\n",
       "      <th>VRSN</th>\n",
       "      <th>VSAT</th>\n",
       "      <th>XLNX</th>\n",
       "      <th>XRX</th>\n",
       "    </tr>\n",
       "    <tr>\n",
       "      <th>date</th>\n",
       "      <th></th>\n",
       "      <th></th>\n",
       "      <th></th>\n",
       "      <th></th>\n",
       "      <th></th>\n",
       "      <th></th>\n",
       "      <th></th>\n",
       "      <th></th>\n",
       "      <th></th>\n",
       "      <th></th>\n",
       "      <th></th>\n",
       "      <th></th>\n",
       "      <th></th>\n",
       "      <th></th>\n",
       "      <th></th>\n",
       "      <th></th>\n",
       "      <th></th>\n",
       "      <th></th>\n",
       "      <th></th>\n",
       "      <th></th>\n",
       "      <th></th>\n",
       "    </tr>\n",
       "  </thead>\n",
       "  <tbody>\n",
       "    <tr>\n",
       "      <th>2005-11-30</th>\n",
       "      <td>-0.004112</td>\n",
       "      <td>0.007082</td>\n",
       "      <td>0.006481</td>\n",
       "      <td>0.017713</td>\n",
       "      <td>0.011625</td>\n",
       "      <td>0.010121</td>\n",
       "      <td>-0.002753</td>\n",
       "      <td>0.023456</td>\n",
       "      <td>0.024793</td>\n",
       "      <td>-0.001854</td>\n",
       "      <td>...</td>\n",
       "      <td>0.028110</td>\n",
       "      <td>0.019460</td>\n",
       "      <td>0.004902</td>\n",
       "      <td>NaN</td>\n",
       "      <td>0.014900</td>\n",
       "      <td>NaN</td>\n",
       "      <td>0.005427</td>\n",
       "      <td>0.002175</td>\n",
       "      <td>0.019668</td>\n",
       "      <td>0.002117</td>\n",
       "    </tr>\n",
       "    <tr>\n",
       "      <th>2005-12-01</th>\n",
       "      <td>0.055737</td>\n",
       "      <td>0.024613</td>\n",
       "      <td>0.038945</td>\n",
       "      <td>0.035074</td>\n",
       "      <td>0.003831</td>\n",
       "      <td>0.054609</td>\n",
       "      <td>0.029266</td>\n",
       "      <td>0.046982</td>\n",
       "      <td>0.056452</td>\n",
       "      <td>0.011143</td>\n",
       "      <td>...</td>\n",
       "      <td>0.079289</td>\n",
       "      <td>0.042180</td>\n",
       "      <td>0.008130</td>\n",
       "      <td>NaN</td>\n",
       "      <td>0.033879</td>\n",
       "      <td>NaN</td>\n",
       "      <td>0.019793</td>\n",
       "      <td>0.003255</td>\n",
       "      <td>0.026853</td>\n",
       "      <td>0.041549</td>\n",
       "    </tr>\n",
       "    <tr>\n",
       "      <th>2005-12-02</th>\n",
       "      <td>0.014384</td>\n",
       "      <td>0.001373</td>\n",
       "      <td>0.032172</td>\n",
       "      <td>0.012484</td>\n",
       "      <td>0.011686</td>\n",
       "      <td>-0.008076</td>\n",
       "      <td>0.010193</td>\n",
       "      <td>0.019701</td>\n",
       "      <td>0.012214</td>\n",
       "      <td>0.001224</td>\n",
       "      <td>...</td>\n",
       "      <td>-0.020899</td>\n",
       "      <td>0.007681</td>\n",
       "      <td>0.014516</td>\n",
       "      <td>NaN</td>\n",
       "      <td>-0.008738</td>\n",
       "      <td>NaN</td>\n",
       "      <td>-0.006617</td>\n",
       "      <td>0.001442</td>\n",
       "      <td>0.007735</td>\n",
       "      <td>-0.017579</td>\n",
       "    </tr>\n",
       "    <tr>\n",
       "      <th>2005-12-05</th>\n",
       "      <td>-0.011152</td>\n",
       "      <td>-0.014051</td>\n",
       "      <td>0.008007</td>\n",
       "      <td>-0.014595</td>\n",
       "      <td>0.012494</td>\n",
       "      <td>0.006226</td>\n",
       "      <td>-0.015401</td>\n",
       "      <td>-0.024329</td>\n",
       "      <td>-0.030166</td>\n",
       "      <td>-0.004688</td>\n",
       "      <td>...</td>\n",
       "      <td>-0.001940</td>\n",
       "      <td>-0.026385</td>\n",
       "      <td>0.004769</td>\n",
       "      <td>NaN</td>\n",
       "      <td>0.000551</td>\n",
       "      <td>NaN</td>\n",
       "      <td>-0.000888</td>\n",
       "      <td>-0.003960</td>\n",
       "      <td>-0.032895</td>\n",
       "      <td>-0.004129</td>\n",
       "    </tr>\n",
       "    <tr>\n",
       "      <th>2005-12-06</th>\n",
       "      <td>0.031050</td>\n",
       "      <td>0.002781</td>\n",
       "      <td>0.049362</td>\n",
       "      <td>0.007150</td>\n",
       "      <td>0.015600</td>\n",
       "      <td>0.026178</td>\n",
       "      <td>0.022114</td>\n",
       "      <td>-0.011735</td>\n",
       "      <td>0.009331</td>\n",
       "      <td>0.008806</td>\n",
       "      <td>...</td>\n",
       "      <td>0.005833</td>\n",
       "      <td>0.002409</td>\n",
       "      <td>0.011076</td>\n",
       "      <td>NaN</td>\n",
       "      <td>0.020925</td>\n",
       "      <td>NaN</td>\n",
       "      <td>0.008444</td>\n",
       "      <td>-0.005421</td>\n",
       "      <td>0.019652</td>\n",
       "      <td>0.012440</td>\n",
       "    </tr>\n",
       "  </tbody>\n",
       "</table>\n",
       "<p>5 rows × 104 columns</p>\n",
       "</div>"
      ],
      "text/plain": [
       "                AAPL       ACN      ADBE       ADI      ADSK      AKAM  \\\n",
       "date                                                                     \n",
       "2005-11-30 -0.004112  0.007082  0.006481  0.017713  0.011625  0.010121   \n",
       "2005-12-01  0.055737  0.024613  0.038945  0.035074  0.003831  0.054609   \n",
       "2005-12-02  0.014384  0.001373  0.032172  0.012484  0.011686 -0.008076   \n",
       "2005-12-05 -0.011152 -0.014051  0.008007 -0.014595  0.012494  0.006226   \n",
       "2005-12-06  0.031050  0.002781  0.049362  0.007150  0.015600  0.026178   \n",
       "\n",
       "                AMAT       AMD      AMKR      AMZN  ...       TER       TXN  \\\n",
       "date                                                ...                       \n",
       "2005-11-30 -0.002753  0.023456  0.024793 -0.001854  ...  0.028110  0.019460   \n",
       "2005-12-01  0.029266  0.046982  0.056452  0.011143  ...  0.079289  0.042180   \n",
       "2005-12-02  0.010193  0.019701  0.012214  0.001224  ... -0.020899  0.007681   \n",
       "2005-12-05 -0.015401 -0.024329 -0.030166 -0.004688  ... -0.001940 -0.026385   \n",
       "2005-12-06  0.022114 -0.011735  0.009331  0.008806  ...  0.005833  0.002409   \n",
       "\n",
       "                 UIS   V      VECO  VMW      VRSN      VSAT      XLNX  \\\n",
       "date                                                                    \n",
       "2005-11-30  0.004902 NaN  0.014900  NaN  0.005427  0.002175  0.019668   \n",
       "2005-12-01  0.008130 NaN  0.033879  NaN  0.019793  0.003255  0.026853   \n",
       "2005-12-02  0.014516 NaN -0.008738  NaN -0.006617  0.001442  0.007735   \n",
       "2005-12-05  0.004769 NaN  0.000551  NaN -0.000888 -0.003960 -0.032895   \n",
       "2005-12-06  0.011076 NaN  0.020925  NaN  0.008444 -0.005421  0.019652   \n",
       "\n",
       "                 XRX  \n",
       "date                  \n",
       "2005-11-30  0.002117  \n",
       "2005-12-01  0.041549  \n",
       "2005-12-02 -0.017579  \n",
       "2005-12-05 -0.004129  \n",
       "2005-12-06  0.012440  \n",
       "\n",
       "[5 rows x 104 columns]"
      ]
     },
     "execution_count": 35,
     "metadata": {},
     "output_type": "execute_result"
    }
   ],
   "source": [
    "daily_return.head()"
   ]
  },
  {
   "cell_type": "code",
   "execution_count": 36,
   "metadata": {},
   "outputs": [
    {
     "data": {
      "text/plain": [
       "(3321, 104)"
      ]
     },
     "execution_count": 36,
     "metadata": {},
     "output_type": "execute_result"
    }
   ],
   "source": [
    "daily_return.shape"
   ]
  },
  {
   "cell_type": "markdown",
   "metadata": {},
   "source": [
    "## 7. Get Trade Month for daily return"
   ]
  },
  {
   "cell_type": "code",
   "execution_count": 37,
   "metadata": {},
   "outputs": [],
   "source": [
    "trade_month_plus1=trade_month.copy()\n",
    "trade_month_plus1.append('2019-01-31')"
   ]
  },
  {
   "cell_type": "code",
   "execution_count": 38,
   "metadata": {},
   "outputs": [
    {
     "data": {
      "text/plain": [
       "154"
      ]
     },
     "execution_count": 38,
     "metadata": {},
     "output_type": "execute_result"
    }
   ],
   "source": [
    "len(trade_month)"
   ]
  },
  {
   "cell_type": "code",
   "execution_count": 39,
   "metadata": {},
   "outputs": [
    {
     "data": {
      "text/plain": [
       "155"
      ]
     },
     "execution_count": 39,
     "metadata": {},
     "output_type": "execute_result"
    }
   ],
   "source": [
    "len(trade_month_plus1)"
   ]
  },
  {
   "cell_type": "markdown",
   "metadata": {},
   "source": [
    "## 8. Get First Trade Date Index"
   ]
  },
  {
   "cell_type": "code",
   "execution_count": 41,
   "metadata": {},
   "outputs": [],
   "source": [
    "#3 years (36 months to train), 6 months to test: total 42 months\n",
    "first_trade_date_index = 42"
   ]
  },
  {
   "cell_type": "markdown",
   "metadata": {},
   "source": [
    "## Run Model\n",
    "* Input: Features + Forward Month Return\n",
    "* Output: Monthly Stock Predicted Return \n"
   ]
  },
  {
   "cell_type": "markdown",
   "metadata": {},
   "source": [
    "### Alternative Data Only"
   ]
  },
  {
   "cell_type": "code",
   "execution_count": 42,
   "metadata": {},
   "outputs": [
    {
     "data": {
      "text/plain": [
       "40"
      ]
     },
     "execution_count": 42,
     "metadata": {},
     "output_type": "execute_result"
    }
   ],
   "source": [
    "len(features_column_alternative)"
   ]
  },
  {
   "cell_type": "code",
   "execution_count": 43,
   "metadata": {},
   "outputs": [
    {
     "data": {
      "text/plain": [
       "154"
      ]
     },
     "execution_count": 43,
     "metadata": {},
     "output_type": "execute_result"
    }
   ],
   "source": [
    "len(trade_month)"
   ]
  },
  {
   "cell_type": "code",
   "execution_count": 44,
   "metadata": {},
   "outputs": [
    {
     "name": "stdout",
     "output_type": "stream",
     "text": [
      "WARNING:tensorflow:From /home/ubuntu/anaconda3/lib/python3.6/site-packages/keras/backend/tensorflow_backend.py:422: The name tf.global_variables is deprecated. Please use tf.compat.v1.global_variables instead.\n",
      "\n",
      "Epoch 1/2\n",
      " 7424/10821 [===================>..........] - ETA: 2s - loss: 0.0959"
     ]
    },
    {
     "ename": "KeyboardInterrupt",
     "evalue": "",
     "output_type": "error",
     "traceback": [
      "\u001b[0;31m---------------------------------------------------------------------------\u001b[0m",
      "\u001b[0;31mKeyboardInterrupt\u001b[0m                         Traceback (most recent call last)",
      "\u001b[0;32m<ipython-input-44-73c7a0e2d59f>\u001b[0m in \u001b[0;36m<module>\u001b[0;34m\u001b[0m\n\u001b[1;32m      1\u001b[0m \u001b[0;31m#%%time\u001b[0m\u001b[0;34m\u001b[0m\u001b[0;34m\u001b[0m\u001b[0;34m\u001b[0m\u001b[0m\n\u001b[1;32m      2\u001b[0m \u001b[0mstart\u001b[0m\u001b[0;34m=\u001b[0m\u001b[0mtime\u001b[0m\u001b[0;34m.\u001b[0m\u001b[0mtime\u001b[0m\u001b[0;34m(\u001b[0m\u001b[0;34m)\u001b[0m\u001b[0;34m\u001b[0m\u001b[0;34m\u001b[0m\u001b[0m\n\u001b[0;32m----> 3\u001b[0;31m \u001b[0mmodel_results\u001b[0m\u001b[0;34m=\u001b[0m \u001b[0mrun_model\u001b[0m\u001b[0;34m(\u001b[0m\u001b[0mdf\u001b[0m\u001b[0;34m,\u001b[0m\u001b[0munique_ticker\u001b[0m\u001b[0;34m,\u001b[0m\u001b[0munique_datetime\u001b[0m\u001b[0;34m,\u001b[0m\u001b[0mtrade_month\u001b[0m\u001b[0;34m,\u001b[0m\u001b[0mfeatures_column_alternative\u001b[0m\u001b[0;34m,\u001b[0m\u001b[0mfirst_trade_date_index\u001b[0m \u001b[0;34m=\u001b[0m \u001b[0;36m150\u001b[0m\u001b[0;34m,\u001b[0m\u001b[0mtesting_windows\u001b[0m \u001b[0;34m=\u001b[0m \u001b[0;36m6\u001b[0m\u001b[0;34m)\u001b[0m\u001b[0;34m\u001b[0m\u001b[0;34m\u001b[0m\u001b[0m\n\u001b[0m\u001b[1;32m      4\u001b[0m \u001b[0mend\u001b[0m\u001b[0;34m=\u001b[0m\u001b[0mtime\u001b[0m\u001b[0;34m.\u001b[0m\u001b[0mtime\u001b[0m\u001b[0;34m(\u001b[0m\u001b[0;34m)\u001b[0m\u001b[0;34m\u001b[0m\u001b[0;34m\u001b[0m\u001b[0m\n",
      "\u001b[0;32m~/1-Paper/IEEE_BigData_19/ml_model_lstm_best.py\u001b[0m in \u001b[0;36mrun_model\u001b[0;34m(df, unique_ticker, unique_datetime, trade_month, features_column, first_trade_date_index, testing_windows)\u001b[0m\n\u001b[1;32m    293\u001b[0m         \u001b[0;31m#gbm_model = train_gbm(X_train, y_train)\u001b[0m\u001b[0;34m\u001b[0m\u001b[0;34m\u001b[0m\u001b[0;34m\u001b[0m\u001b[0m\n\u001b[1;32m    294\u001b[0m         \u001b[0;31m#ada_model = train_ada(X_train, y_train)\u001b[0m\u001b[0;34m\u001b[0m\u001b[0;34m\u001b[0m\u001b[0;34m\u001b[0m\u001b[0m\n\u001b[0;32m--> 295\u001b[0;31m         \u001b[0mlstm_model\u001b[0m \u001b[0;34m=\u001b[0m \u001b[0mtrain_lstm\u001b[0m\u001b[0;34m(\u001b[0m\u001b[0mX_train_lstm\u001b[0m\u001b[0;34m,\u001b[0m \u001b[0my_train\u001b[0m\u001b[0;34m)\u001b[0m\u001b[0;34m\u001b[0m\u001b[0;34m\u001b[0m\u001b[0m\n\u001b[0m\u001b[1;32m    296\u001b[0m \u001b[0;34m\u001b[0m\u001b[0m\n\u001b[1;32m    297\u001b[0m \u001b[0;34m\u001b[0m\u001b[0m\n",
      "\u001b[0;32m~/1-Paper/IEEE_BigData_19/ml_model_lstm_best.py\u001b[0m in \u001b[0;36mtrain_lstm\u001b[0;34m(X_train, y_train)\u001b[0m\n\u001b[1;32m    210\u001b[0m \u001b[0;34m\u001b[0m\u001b[0m\n\u001b[1;32m    211\u001b[0m     \u001b[0;31m# Fitting the RNN to the Training set\u001b[0m\u001b[0;34m\u001b[0m\u001b[0;34m\u001b[0m\u001b[0;34m\u001b[0m\u001b[0m\n\u001b[0;32m--> 212\u001b[0;31m     \u001b[0mregressor\u001b[0m\u001b[0;34m.\u001b[0m\u001b[0mfit\u001b[0m\u001b[0;34m(\u001b[0m\u001b[0mX_train\u001b[0m\u001b[0;34m,\u001b[0m \u001b[0my_train\u001b[0m\u001b[0;34m,\u001b[0m \u001b[0mepochs\u001b[0m \u001b[0;34m=\u001b[0m \u001b[0;36m2\u001b[0m\u001b[0;34m,\u001b[0m \u001b[0mbatch_size\u001b[0m \u001b[0;34m=\u001b[0m \u001b[0;36m128\u001b[0m\u001b[0;34m)\u001b[0m\u001b[0;34m\u001b[0m\u001b[0;34m\u001b[0m\u001b[0m\n\u001b[0m\u001b[1;32m    213\u001b[0m     \u001b[0;31m#print(regressor.summary())\u001b[0m\u001b[0;34m\u001b[0m\u001b[0;34m\u001b[0m\u001b[0;34m\u001b[0m\u001b[0m\n\u001b[1;32m    214\u001b[0m     \u001b[0;32mreturn\u001b[0m \u001b[0mregressor\u001b[0m\u001b[0;34m\u001b[0m\u001b[0;34m\u001b[0m\u001b[0m\n",
      "\u001b[0;32m~/anaconda3/lib/python3.6/site-packages/keras/engine/training.py\u001b[0m in \u001b[0;36mfit\u001b[0;34m(self, x, y, batch_size, epochs, verbose, callbacks, validation_split, validation_data, shuffle, class_weight, sample_weight, initial_epoch, steps_per_epoch, validation_steps, validation_freq, max_queue_size, workers, use_multiprocessing, **kwargs)\u001b[0m\n\u001b[1;32m   1237\u001b[0m                                         \u001b[0msteps_per_epoch\u001b[0m\u001b[0;34m=\u001b[0m\u001b[0msteps_per_epoch\u001b[0m\u001b[0;34m,\u001b[0m\u001b[0;34m\u001b[0m\u001b[0;34m\u001b[0m\u001b[0m\n\u001b[1;32m   1238\u001b[0m                                         \u001b[0mvalidation_steps\u001b[0m\u001b[0;34m=\u001b[0m\u001b[0mvalidation_steps\u001b[0m\u001b[0;34m,\u001b[0m\u001b[0;34m\u001b[0m\u001b[0;34m\u001b[0m\u001b[0m\n\u001b[0;32m-> 1239\u001b[0;31m                                         validation_freq=validation_freq)\n\u001b[0m\u001b[1;32m   1240\u001b[0m \u001b[0;34m\u001b[0m\u001b[0m\n\u001b[1;32m   1241\u001b[0m     def evaluate(self,\n",
      "\u001b[0;32m~/anaconda3/lib/python3.6/site-packages/keras/engine/training_arrays.py\u001b[0m in \u001b[0;36mfit_loop\u001b[0;34m(model, fit_function, fit_inputs, out_labels, batch_size, epochs, verbose, callbacks, val_function, val_inputs, shuffle, initial_epoch, steps_per_epoch, validation_steps, validation_freq)\u001b[0m\n\u001b[1;32m    194\u001b[0m                     \u001b[0mins_batch\u001b[0m\u001b[0;34m[\u001b[0m\u001b[0mi\u001b[0m\u001b[0;34m]\u001b[0m \u001b[0;34m=\u001b[0m \u001b[0mins_batch\u001b[0m\u001b[0;34m[\u001b[0m\u001b[0mi\u001b[0m\u001b[0;34m]\u001b[0m\u001b[0;34m.\u001b[0m\u001b[0mtoarray\u001b[0m\u001b[0;34m(\u001b[0m\u001b[0;34m)\u001b[0m\u001b[0;34m\u001b[0m\u001b[0;34m\u001b[0m\u001b[0m\n\u001b[1;32m    195\u001b[0m \u001b[0;34m\u001b[0m\u001b[0m\n\u001b[0;32m--> 196\u001b[0;31m                 \u001b[0mouts\u001b[0m \u001b[0;34m=\u001b[0m \u001b[0mfit_function\u001b[0m\u001b[0;34m(\u001b[0m\u001b[0mins_batch\u001b[0m\u001b[0;34m)\u001b[0m\u001b[0;34m\u001b[0m\u001b[0;34m\u001b[0m\u001b[0m\n\u001b[0m\u001b[1;32m    197\u001b[0m                 \u001b[0mouts\u001b[0m \u001b[0;34m=\u001b[0m \u001b[0mto_list\u001b[0m\u001b[0;34m(\u001b[0m\u001b[0mouts\u001b[0m\u001b[0;34m)\u001b[0m\u001b[0;34m\u001b[0m\u001b[0;34m\u001b[0m\u001b[0m\n\u001b[1;32m    198\u001b[0m                 \u001b[0;32mfor\u001b[0m \u001b[0ml\u001b[0m\u001b[0;34m,\u001b[0m \u001b[0mo\u001b[0m \u001b[0;32min\u001b[0m \u001b[0mzip\u001b[0m\u001b[0;34m(\u001b[0m\u001b[0mout_labels\u001b[0m\u001b[0;34m,\u001b[0m \u001b[0mouts\u001b[0m\u001b[0;34m)\u001b[0m\u001b[0;34m:\u001b[0m\u001b[0;34m\u001b[0m\u001b[0;34m\u001b[0m\u001b[0m\n",
      "\u001b[0;32m~/.local/lib/python3.6/site-packages/tensorflow/python/keras/backend.py\u001b[0m in \u001b[0;36m__call__\u001b[0;34m(self, inputs)\u001b[0m\n\u001b[1;32m   3290\u001b[0m \u001b[0;34m\u001b[0m\u001b[0m\n\u001b[1;32m   3291\u001b[0m     fetched = self._callable_fn(*array_vals,\n\u001b[0;32m-> 3292\u001b[0;31m                                 run_metadata=self.run_metadata)\n\u001b[0m\u001b[1;32m   3293\u001b[0m     \u001b[0mself\u001b[0m\u001b[0;34m.\u001b[0m\u001b[0m_call_fetch_callbacks\u001b[0m\u001b[0;34m(\u001b[0m\u001b[0mfetched\u001b[0m\u001b[0;34m[\u001b[0m\u001b[0;34m-\u001b[0m\u001b[0mlen\u001b[0m\u001b[0;34m(\u001b[0m\u001b[0mself\u001b[0m\u001b[0;34m.\u001b[0m\u001b[0m_fetches\u001b[0m\u001b[0;34m)\u001b[0m\u001b[0;34m:\u001b[0m\u001b[0;34m]\u001b[0m\u001b[0;34m)\u001b[0m\u001b[0;34m\u001b[0m\u001b[0;34m\u001b[0m\u001b[0m\n\u001b[1;32m   3294\u001b[0m     output_structure = nest.pack_sequence_as(\n",
      "\u001b[0;32m~/.local/lib/python3.6/site-packages/tensorflow/python/client/session.py\u001b[0m in \u001b[0;36m__call__\u001b[0;34m(self, *args, **kwargs)\u001b[0m\n\u001b[1;32m   1456\u001b[0m         ret = tf_session.TF_SessionRunCallable(self._session._session,\n\u001b[1;32m   1457\u001b[0m                                                \u001b[0mself\u001b[0m\u001b[0;34m.\u001b[0m\u001b[0m_handle\u001b[0m\u001b[0;34m,\u001b[0m \u001b[0margs\u001b[0m\u001b[0;34m,\u001b[0m\u001b[0;34m\u001b[0m\u001b[0;34m\u001b[0m\u001b[0m\n\u001b[0;32m-> 1458\u001b[0;31m                                                run_metadata_ptr)\n\u001b[0m\u001b[1;32m   1459\u001b[0m         \u001b[0;32mif\u001b[0m \u001b[0mrun_metadata\u001b[0m\u001b[0;34m:\u001b[0m\u001b[0;34m\u001b[0m\u001b[0;34m\u001b[0m\u001b[0m\n\u001b[1;32m   1460\u001b[0m           \u001b[0mproto_data\u001b[0m \u001b[0;34m=\u001b[0m \u001b[0mtf_session\u001b[0m\u001b[0;34m.\u001b[0m\u001b[0mTF_GetBuffer\u001b[0m\u001b[0;34m(\u001b[0m\u001b[0mrun_metadata_ptr\u001b[0m\u001b[0;34m)\u001b[0m\u001b[0;34m\u001b[0m\u001b[0;34m\u001b[0m\u001b[0m\n",
      "\u001b[0;31mKeyboardInterrupt\u001b[0m: "
     ]
    }
   ],
   "source": [
    "#%%time\n",
    "start=time.time()\n",
    "model_results= run_model(df,unique_ticker,unique_datetime,trade_month,features_column_alternative,first_trade_date_index = 150,testing_windows = 6)\n",
    "end=time.time()"
   ]
  },
  {
   "cell_type": "code",
   "execution_count": null,
   "metadata": {},
   "outputs": [],
   "source": [
    "(end-start)/3600"
   ]
  },
  {
   "cell_type": "code",
   "execution_count": null,
   "metadata": {},
   "outputs": [],
   "source": [
    "0.1118"
   ]
  },
  {
   "cell_type": "code",
   "execution_count": null,
   "metadata": {},
   "outputs": [],
   "source": [
    "0.1124"
   ]
  },
  {
   "cell_type": "code",
   "execution_count": null,
   "metadata": {},
   "outputs": [],
   "source": [
    "0.1157"
   ]
  },
  {
   "cell_type": "code",
   "execution_count": null,
   "metadata": {},
   "outputs": [],
   "source": [
    "0.1175"
   ]
  },
  {
   "cell_type": "markdown",
   "metadata": {},
   "source": [
    "### Financial Data Only"
   ]
  },
  {
   "cell_type": "code",
   "execution_count": null,
   "metadata": {},
   "outputs": [],
   "source": [
    "len(features_column_financial)"
   ]
  },
  {
   "cell_type": "code",
   "execution_count": null,
   "metadata": {},
   "outputs": [],
   "source": [
    "#%%time\n",
    "\n",
    "#model_results= run_model(df,unique_ticker,unique_datetime,trade_month,features_column_financial,first_trade_date_index = 42,testing_windows = 6)\n"
   ]
  },
  {
   "cell_type": "markdown",
   "metadata": {},
   "source": [
    "### All Features: Alternative Data + Financial Data"
   ]
  },
  {
   "cell_type": "code",
   "execution_count": null,
   "metadata": {
    "collapsed": true,
    "jupyter": {
     "outputs_hidden": true
    }
   },
   "outputs": [],
   "source": [
    "len(features_column_all)"
   ]
  },
  {
   "cell_type": "code",
   "execution_count": null,
   "metadata": {},
   "outputs": [],
   "source": [
    "#%%time\n",
    "\n",
    "#model_results= run_model(df,unique_ticker,unique_datetime,trade_month,features_column_all,first_trade_date_index = 42,testing_windows = 6)\n"
   ]
  },
  {
   "cell_type": "code",
   "execution_count": null,
   "metadata": {},
   "outputs": [],
   "source": []
  },
  {
   "cell_type": "markdown",
   "metadata": {},
   "source": [
    "## Output: 1. Get Predicted Return"
   ]
  },
  {
   "cell_type": "code",
   "execution_count": null,
   "metadata": {
    "collapsed": true,
    "jupyter": {
     "outputs_hidden": true
    }
   },
   "outputs": [],
   "source": [
    "df_predict_lr = model_results[0].astype(np.float64)\n",
    "\n",
    "df_predict_lasso = model_results[1].astype(np.float64)\n",
    "df_predict_ridge = model_results[2].astype(np.float64)\n",
    "df_predict_rf = model_results[3].astype(np.float64)\n",
    "df_predict_svm = model_results[4].astype(np.float64)\n",
    "#df_predict_gbm = model_results[5].astype(np.float64)\n",
    "#df_predict_ada = model_results[5].astype(np.float64)\n",
    "df_predict_lstm = model_results[5].astype(np.float64)\n",
    "\n",
    "\n",
    "df_predict_best = model_results[6].astype(np.float64)\n",
    "df_best_model_name = model_results[7]\n",
    "df_evaluation_score = model_results[8]"
   ]
  },
  {
   "cell_type": "code",
   "execution_count": null,
   "metadata": {},
   "outputs": [],
   "source": [
    "df_evaluation_score[0]"
   ]
  },
  {
   "cell_type": "code",
   "execution_count": null,
   "metadata": {},
   "outputs": [],
   "source": [
    "df_predict_best.shape"
   ]
  },
  {
   "cell_type": "code",
   "execution_count": null,
   "metadata": {},
   "outputs": [],
   "source": []
  },
  {
   "cell_type": "code",
   "execution_count": null,
   "metadata": {},
   "outputs": [],
   "source": [
    "evaluation_list = []\n",
    "for i in range(df_predict_best.shape[0]):\n",
    "    evaluation_list.append(df_evaluation_score[i]['model_eval'].values)\n",
    "    "
   ]
  },
  {
   "cell_type": "code",
   "execution_count": null,
   "metadata": {},
   "outputs": [],
   "source": [
    "df_evaluation = pd.DataFrame(evaluation_list,columns = ['linear_regression', 'lasso','ridge','random_forest','svm','lstm'])\n",
    "df_evaluation.index = df_predict_best.index.values"
   ]
  },
  {
   "cell_type": "code",
   "execution_count": null,
   "metadata": {},
   "outputs": [],
   "source": []
  },
  {
   "cell_type": "code",
   "execution_count": null,
   "metadata": {},
   "outputs": [],
   "source": []
  },
  {
   "cell_type": "code",
   "execution_count": 5,
   "metadata": {},
   "outputs": [
    {
     "data": {
      "text/plain": [
       "<matplotlib.axes._subplots.AxesSubplot at 0x7fd3c53c8b70>"
      ]
     },
     "execution_count": 5,
     "metadata": {},
     "output_type": "execute_result"
    },
    {
     "data": {
      "image/png": "[encoded data removed]",
      "text/plain": [
       "<Figure size 720x360 with 1 Axes>"
      ]
     },
     "metadata": {
      "needs_background": "light"
     },
     "output_type": "display_data"
    }
   ],
   "source": [
    "df_evaluation.plot(figsize=(10,5))\n",
    "#plt.plot(df_evaluation)\n"
   ]
  },
  {
   "cell_type": "code",
   "execution_count": 7,
   "metadata": {},
   "outputs": [
    {
     "data": {
      "text/html": [
       "<div>\n",
       "<style scoped>\n",
       "    .dataframe tbody tr th:only-of-type {\n",
       "        vertical-align: middle;\n",
       "    }\n",
       "\n",
       "    .dataframe tbody tr th {\n",
       "        vertical-align: top;\n",
       "    }\n",
       "\n",
       "    .dataframe thead th {\n",
       "        text-align: right;\n",
       "    }\n",
       "</style>\n",
       "<table border=\"1\" class=\"dataframe\">\n",
       "  <thead>\n",
       "    <tr style=\"text-align: right;\">\n",
       "      <th></th>\n",
       "      <th>Unnamed: 0</th>\n",
       "      <th>linear_regression</th>\n",
       "      <th>lasso</th>\n",
       "      <th>ridge</th>\n",
       "      <th>random_forest</th>\n",
       "      <th>svm</th>\n",
       "      <th>lstm</th>\n",
       "    </tr>\n",
       "  </thead>\n",
       "  <tbody>\n",
       "    <tr>\n",
       "      <th>0</th>\n",
       "      <td>2005-11-30</td>\n",
       "      <td>0.086251</td>\n",
       "      <td>0.084325</td>\n",
       "      <td>0.086141</td>\n",
       "      <td>0.093056</td>\n",
       "      <td>0.084559</td>\n",
       "      <td>0.084991</td>\n",
       "    </tr>\n",
       "    <tr>\n",
       "      <th>1</th>\n",
       "      <td>2005-12-30</td>\n",
       "      <td>0.084260</td>\n",
       "      <td>0.082142</td>\n",
       "      <td>0.084075</td>\n",
       "      <td>0.091645</td>\n",
       "      <td>0.081884</td>\n",
       "      <td>0.082935</td>\n",
       "    </tr>\n",
       "    <tr>\n",
       "      <th>2</th>\n",
       "      <td>2006-01-31</td>\n",
       "      <td>0.088935</td>\n",
       "      <td>0.087121</td>\n",
       "      <td>0.088621</td>\n",
       "      <td>0.097074</td>\n",
       "      <td>0.086971</td>\n",
       "      <td>0.087012</td>\n",
       "    </tr>\n",
       "    <tr>\n",
       "      <th>3</th>\n",
       "      <td>2006-02-28</td>\n",
       "      <td>0.090260</td>\n",
       "      <td>0.088281</td>\n",
       "      <td>0.089626</td>\n",
       "      <td>0.096854</td>\n",
       "      <td>0.088064</td>\n",
       "      <td>0.088494</td>\n",
       "    </tr>\n",
       "    <tr>\n",
       "      <th>4</th>\n",
       "      <td>2006-03-31</td>\n",
       "      <td>0.088645</td>\n",
       "      <td>0.087402</td>\n",
       "      <td>0.088385</td>\n",
       "      <td>0.095073</td>\n",
       "      <td>0.087394</td>\n",
       "      <td>0.087549</td>\n",
       "    </tr>\n",
       "    <tr>\n",
       "      <th>...</th>\n",
       "      <td>...</td>\n",
       "      <td>...</td>\n",
       "      <td>...</td>\n",
       "      <td>...</td>\n",
       "      <td>...</td>\n",
       "      <td>...</td>\n",
       "      <td>...</td>\n",
       "    </tr>\n",
       "    <tr>\n",
       "      <th>149</th>\n",
       "      <td>2018-07-31</td>\n",
       "      <td>0.074825</td>\n",
       "      <td>0.073491</td>\n",
       "      <td>0.074965</td>\n",
       "      <td>0.077384</td>\n",
       "      <td>0.073565</td>\n",
       "      <td>0.073991</td>\n",
       "    </tr>\n",
       "    <tr>\n",
       "      <th>150</th>\n",
       "      <td>2018-08-31</td>\n",
       "      <td>0.072571</td>\n",
       "      <td>0.071320</td>\n",
       "      <td>0.072758</td>\n",
       "      <td>0.079888</td>\n",
       "      <td>0.071298</td>\n",
       "      <td>0.071167</td>\n",
       "    </tr>\n",
       "    <tr>\n",
       "      <th>151</th>\n",
       "      <td>2018-09-28</td>\n",
       "      <td>0.070056</td>\n",
       "      <td>0.069771</td>\n",
       "      <td>0.069672</td>\n",
       "      <td>0.077021</td>\n",
       "      <td>0.069814</td>\n",
       "      <td>0.069645</td>\n",
       "    </tr>\n",
       "    <tr>\n",
       "      <th>152</th>\n",
       "      <td>2018-10-31</td>\n",
       "      <td>0.075422</td>\n",
       "      <td>0.075979</td>\n",
       "      <td>0.075411</td>\n",
       "      <td>0.084767</td>\n",
       "      <td>0.075790</td>\n",
       "      <td>0.075311</td>\n",
       "    </tr>\n",
       "    <tr>\n",
       "      <th>153</th>\n",
       "      <td>2018-11-30</td>\n",
       "      <td>0.075209</td>\n",
       "      <td>0.075150</td>\n",
       "      <td>0.075174</td>\n",
       "      <td>0.082554</td>\n",
       "      <td>0.074744</td>\n",
       "      <td>0.075551</td>\n",
       "    </tr>\n",
       "  </tbody>\n",
       "</table>\n",
       "<p>154 rows × 7 columns</p>\n",
       "</div>"
      ],
      "text/plain": [
       "     Unnamed: 0  linear_regression     lasso     ridge  random_forest  \\\n",
       "0    2005-11-30           0.086251  0.084325  0.086141       0.093056   \n",
       "1    2005-12-30           0.084260  0.082142  0.084075       0.091645   \n",
       "2    2006-01-31           0.088935  0.087121  0.088621       0.097074   \n",
       "3    2006-02-28           0.090260  0.088281  0.089626       0.096854   \n",
       "4    2006-03-31           0.088645  0.087402  0.088385       0.095073   \n",
       "..          ...                ...       ...       ...            ...   \n",
       "149  2018-07-31           0.074825  0.073491  0.074965       0.077384   \n",
       "150  2018-08-31           0.072571  0.071320  0.072758       0.079888   \n",
       "151  2018-09-28           0.070056  0.069771  0.069672       0.077021   \n",
       "152  2018-10-31           0.075422  0.075979  0.075411       0.084767   \n",
       "153  2018-11-30           0.075209  0.075150  0.075174       0.082554   \n",
       "\n",
       "          svm      lstm  \n",
       "0    0.084559  0.084991  \n",
       "1    0.081884  0.082935  \n",
       "2    0.086971  0.087012  \n",
       "3    0.088064  0.088494  \n",
       "4    0.087394  0.087549  \n",
       "..        ...       ...  \n",
       "149  0.073565  0.073991  \n",
       "150  0.071298  0.071167  \n",
       "151  0.069814  0.069645  \n",
       "152  0.075790  0.075311  \n",
       "153  0.074744  0.075551  \n",
       "\n",
       "[154 rows x 7 columns]"
      ]
     },
     "execution_count": 7,
     "metadata": {},
     "output_type": "execute_result"
    }
   ],
   "source": [
    "df_evaluation"
   ]
  },
  {
   "cell_type": "code",
   "execution_count": null,
   "metadata": {},
   "outputs": [],
   "source": [
    "#df_evaluation_score"
   ]
  },
  {
   "cell_type": "code",
   "execution_count": null,
   "metadata": {},
   "outputs": [],
   "source": [
    "#df_evaluation_score"
   ]
  },
  {
   "cell_type": "code",
   "execution_count": 58,
   "metadata": {},
   "outputs": [
    {
     "data": {
      "text/plain": [
       "lstm     41\n",
       "lasso    37\n",
       "svm      27\n",
       "lr        6\n",
       "rf        3\n",
       "ridge     3\n",
       "Name: model_name, dtype: int64"
      ]
     },
     "execution_count": 58,
     "metadata": {},
     "output_type": "execute_result"
    }
   ],
   "source": [
    "df_best_model_name[(df_best_model_name.index>='2008-11-01')& (df_best_model_name.index<'2018-11-01')].model_name.value_counts()"
   ]
  },
  {
   "cell_type": "code",
   "execution_count": 59,
   "metadata": {},
   "outputs": [
    {
     "data": {
      "text/plain": [
       "117"
      ]
     },
     "execution_count": 59,
     "metadata": {},
     "output_type": "execute_result"
    }
   ],
   "source": [
    "41+37+27+6+3+3"
   ]
  },
  {
   "cell_type": "code",
   "execution_count": 60,
   "metadata": {},
   "outputs": [
    {
     "data": {
      "text/plain": [
       "0.3504273504273504"
      ]
     },
     "execution_count": 60,
     "metadata": {},
     "output_type": "execute_result"
    }
   ],
   "source": [
    "41/117"
   ]
  },
  {
   "cell_type": "code",
   "execution_count": 61,
   "metadata": {},
   "outputs": [
    {
     "data": {
      "text/plain": [
       "0.3162393162393162"
      ]
     },
     "execution_count": 61,
     "metadata": {},
     "output_type": "execute_result"
    }
   ],
   "source": [
    "37/117"
   ]
  },
  {
   "cell_type": "code",
   "execution_count": 62,
   "metadata": {},
   "outputs": [
    {
     "data": {
      "text/plain": [
       "0.23076923076923078"
      ]
     },
     "execution_count": 62,
     "metadata": {},
     "output_type": "execute_result"
    }
   ],
   "source": [
    "27/117"
   ]
  },
  {
   "cell_type": "code",
   "execution_count": 63,
   "metadata": {},
   "outputs": [
    {
     "data": {
      "text/plain": [
       "0.05128205128205128"
      ]
     },
     "execution_count": 63,
     "metadata": {},
     "output_type": "execute_result"
    }
   ],
   "source": [
    "6/117"
   ]
  },
  {
   "cell_type": "code",
   "execution_count": 64,
   "metadata": {},
   "outputs": [
    {
     "data": {
      "text/plain": [
       "0.02564102564102564"
      ]
     },
     "execution_count": 64,
     "metadata": {},
     "output_type": "execute_result"
    }
   ],
   "source": [
    "3/117"
   ]
  },
  {
   "cell_type": "code",
   "execution_count": 65,
   "metadata": {},
   "outputs": [
    {
     "data": {
      "text/plain": [
       "0.02564102564102564"
      ]
     },
     "execution_count": 65,
     "metadata": {},
     "output_type": "execute_result"
    }
   ],
   "source": [
    "3/117"
   ]
  },
  {
   "cell_type": "code",
   "execution_count": null,
   "metadata": {},
   "outputs": [],
   "source": []
  },
  {
   "cell_type": "code",
   "execution_count": 67,
   "metadata": {},
   "outputs": [
    {
     "data": {
      "text/plain": [
       "100"
      ]
     },
     "execution_count": 67,
     "metadata": {},
     "output_type": "execute_result"
    }
   ],
   "source": [
    "35+31+23+5+3+3"
   ]
  },
  {
   "cell_type": "code",
   "execution_count": 53,
   "metadata": {},
   "outputs": [
    {
     "data": {
      "text/plain": [
       "115"
      ]
     },
     "execution_count": 53,
     "metadata": {},
     "output_type": "execute_result"
    }
   ],
   "source": [
    "40+37+27+6+3+2\n"
   ]
  },
  {
   "cell_type": "code",
   "execution_count": null,
   "metadata": {},
   "outputs": [],
   "source": []
  },
  {
   "cell_type": "code",
   "execution_count": 21,
   "metadata": {},
   "outputs": [
    {
     "data": {
      "text/html": [
       "<div>\n",
       "<style scoped>\n",
       "    .dataframe tbody tr th:only-of-type {\n",
       "        vertical-align: middle;\n",
       "    }\n",
       "\n",
       "    .dataframe tbody tr th {\n",
       "        vertical-align: top;\n",
       "    }\n",
       "\n",
       "    .dataframe thead th {\n",
       "        text-align: right;\n",
       "    }\n",
       "</style>\n",
       "<table border=\"1\" class=\"dataframe\">\n",
       "  <thead>\n",
       "    <tr style=\"text-align: right;\">\n",
       "      <th></th>\n",
       "      <th>model_name</th>\n",
       "    </tr>\n",
       "  </thead>\n",
       "  <tbody>\n",
       "    <tr>\n",
       "      <th>2005-11-30</th>\n",
       "      <td>lasso</td>\n",
       "    </tr>\n",
       "    <tr>\n",
       "      <th>2005-12-30</th>\n",
       "      <td>svm</td>\n",
       "    </tr>\n",
       "    <tr>\n",
       "      <th>2006-01-31</th>\n",
       "      <td>svm</td>\n",
       "    </tr>\n",
       "    <tr>\n",
       "      <th>2006-02-28</th>\n",
       "      <td>svm</td>\n",
       "    </tr>\n",
       "    <tr>\n",
       "      <th>2006-03-31</th>\n",
       "      <td>svm</td>\n",
       "    </tr>\n",
       "    <tr>\n",
       "      <th>...</th>\n",
       "      <td>...</td>\n",
       "    </tr>\n",
       "    <tr>\n",
       "      <th>2018-07-31</th>\n",
       "      <td>lstm</td>\n",
       "    </tr>\n",
       "    <tr>\n",
       "      <th>2018-08-31</th>\n",
       "      <td>lstm</td>\n",
       "    </tr>\n",
       "    <tr>\n",
       "      <th>2018-09-28</th>\n",
       "      <td>ridge</td>\n",
       "    </tr>\n",
       "    <tr>\n",
       "      <th>2018-10-31</th>\n",
       "      <td>ridge</td>\n",
       "    </tr>\n",
       "    <tr>\n",
       "      <th>2018-11-30</th>\n",
       "      <td>svm</td>\n",
       "    </tr>\n",
       "  </tbody>\n",
       "</table>\n",
       "<p>154 rows × 1 columns</p>\n",
       "</div>"
      ],
      "text/plain": [
       "           model_name\n",
       "2005-11-30      lasso\n",
       "2005-12-30        svm\n",
       "2006-01-31        svm\n",
       "2006-02-28        svm\n",
       "2006-03-31        svm\n",
       "...               ...\n",
       "2018-07-31       lstm\n",
       "2018-08-31       lstm\n",
       "2018-09-28      ridge\n",
       "2018-10-31      ridge\n",
       "2018-11-30        svm\n",
       "\n",
       "[154 rows x 1 columns]"
      ]
     },
     "execution_count": 21,
     "metadata": {},
     "output_type": "execute_result"
    }
   ],
   "source": [
    "df_best_model_name"
   ]
  },
  {
   "cell_type": "code",
   "execution_count": null,
   "metadata": {},
   "outputs": [],
   "source": []
  },
  {
   "cell_type": "code",
   "execution_count": null,
   "metadata": {},
   "outputs": [],
   "source": []
  },
  {
   "cell_type": "code",
   "execution_count": 40,
   "metadata": {},
   "outputs": [],
   "source": [
    "df_evaluation = pd.read_csv('results/alternative_0803_lstm_2/df_evaluation.csv',index_col=0)\n"
   ]
  },
  {
   "cell_type": "code",
   "execution_count": 41,
   "metadata": {},
   "outputs": [],
   "source": [
    "df_best_model_name=pd.read_csv('results/alternative_0803_lstm_2/df_best_model_name.csv',index_col=0)\n"
   ]
  },
  {
   "cell_type": "code",
   "execution_count": 42,
   "metadata": {
    "scrolled": true
   },
   "outputs": [
    {
     "data": {
      "text/html": [
       "<div>\n",
       "<style scoped>\n",
       "    .dataframe tbody tr th:only-of-type {\n",
       "        vertical-align: middle;\n",
       "    }\n",
       "\n",
       "    .dataframe tbody tr th {\n",
       "        vertical-align: top;\n",
       "    }\n",
       "\n",
       "    .dataframe thead th {\n",
       "        text-align: right;\n",
       "    }\n",
       "</style>\n",
       "<table border=\"1\" class=\"dataframe\">\n",
       "  <thead>\n",
       "    <tr style=\"text-align: right;\">\n",
       "      <th></th>\n",
       "      <th>model_name</th>\n",
       "    </tr>\n",
       "  </thead>\n",
       "  <tbody>\n",
       "    <tr>\n",
       "      <th>2005-11-30</th>\n",
       "      <td>lasso</td>\n",
       "    </tr>\n",
       "    <tr>\n",
       "      <th>2005-12-30</th>\n",
       "      <td>svm</td>\n",
       "    </tr>\n",
       "    <tr>\n",
       "      <th>2006-01-31</th>\n",
       "      <td>svm</td>\n",
       "    </tr>\n",
       "    <tr>\n",
       "      <th>2006-02-28</th>\n",
       "      <td>svm</td>\n",
       "    </tr>\n",
       "    <tr>\n",
       "      <th>2006-03-31</th>\n",
       "      <td>svm</td>\n",
       "    </tr>\n",
       "    <tr>\n",
       "      <th>2006-04-28</th>\n",
       "      <td>lasso</td>\n",
       "    </tr>\n",
       "    <tr>\n",
       "      <th>2006-05-31</th>\n",
       "      <td>lstm</td>\n",
       "    </tr>\n",
       "    <tr>\n",
       "      <th>2006-06-30</th>\n",
       "      <td>lasso</td>\n",
       "    </tr>\n",
       "    <tr>\n",
       "      <th>2006-07-31</th>\n",
       "      <td>lstm</td>\n",
       "    </tr>\n",
       "    <tr>\n",
       "      <th>2006-08-31</th>\n",
       "      <td>lstm</td>\n",
       "    </tr>\n",
       "    <tr>\n",
       "      <th>2006-09-29</th>\n",
       "      <td>lstm</td>\n",
       "    </tr>\n",
       "    <tr>\n",
       "      <th>2006-10-31</th>\n",
       "      <td>lstm</td>\n",
       "    </tr>\n",
       "    <tr>\n",
       "      <th>2006-11-30</th>\n",
       "      <td>svm</td>\n",
       "    </tr>\n",
       "    <tr>\n",
       "      <th>2006-12-29</th>\n",
       "      <td>svm</td>\n",
       "    </tr>\n",
       "    <tr>\n",
       "      <th>2007-01-31</th>\n",
       "      <td>svm</td>\n",
       "    </tr>\n",
       "    <tr>\n",
       "      <th>2007-02-28</th>\n",
       "      <td>lasso</td>\n",
       "    </tr>\n",
       "    <tr>\n",
       "      <th>2007-03-30</th>\n",
       "      <td>lstm</td>\n",
       "    </tr>\n",
       "    <tr>\n",
       "      <th>2007-04-30</th>\n",
       "      <td>lasso</td>\n",
       "    </tr>\n",
       "    <tr>\n",
       "      <th>2007-05-31</th>\n",
       "      <td>lstm</td>\n",
       "    </tr>\n",
       "    <tr>\n",
       "      <th>2007-06-29</th>\n",
       "      <td>svm</td>\n",
       "    </tr>\n",
       "    <tr>\n",
       "      <th>2007-07-31</th>\n",
       "      <td>svm</td>\n",
       "    </tr>\n",
       "    <tr>\n",
       "      <th>2007-08-31</th>\n",
       "      <td>svm</td>\n",
       "    </tr>\n",
       "    <tr>\n",
       "      <th>2007-09-28</th>\n",
       "      <td>svm</td>\n",
       "    </tr>\n",
       "    <tr>\n",
       "      <th>2007-10-31</th>\n",
       "      <td>lstm</td>\n",
       "    </tr>\n",
       "    <tr>\n",
       "      <th>2007-11-30</th>\n",
       "      <td>lstm</td>\n",
       "    </tr>\n",
       "    <tr>\n",
       "      <th>2007-12-31</th>\n",
       "      <td>lstm</td>\n",
       "    </tr>\n",
       "    <tr>\n",
       "      <th>2008-01-31</th>\n",
       "      <td>lstm</td>\n",
       "    </tr>\n",
       "    <tr>\n",
       "      <th>2008-02-29</th>\n",
       "      <td>lstm</td>\n",
       "    </tr>\n",
       "    <tr>\n",
       "      <th>2008-03-31</th>\n",
       "      <td>lstm</td>\n",
       "    </tr>\n",
       "    <tr>\n",
       "      <th>2008-04-30</th>\n",
       "      <td>lstm</td>\n",
       "    </tr>\n",
       "    <tr>\n",
       "      <th>...</th>\n",
       "      <td>...</td>\n",
       "    </tr>\n",
       "    <tr>\n",
       "      <th>2016-05-31</th>\n",
       "      <td>lstm</td>\n",
       "    </tr>\n",
       "    <tr>\n",
       "      <th>2016-06-30</th>\n",
       "      <td>lr</td>\n",
       "    </tr>\n",
       "    <tr>\n",
       "      <th>2016-07-29</th>\n",
       "      <td>svm</td>\n",
       "    </tr>\n",
       "    <tr>\n",
       "      <th>2016-08-31</th>\n",
       "      <td>svm</td>\n",
       "    </tr>\n",
       "    <tr>\n",
       "      <th>2016-09-30</th>\n",
       "      <td>svm</td>\n",
       "    </tr>\n",
       "    <tr>\n",
       "      <th>2016-10-31</th>\n",
       "      <td>svm</td>\n",
       "    </tr>\n",
       "    <tr>\n",
       "      <th>2016-11-30</th>\n",
       "      <td>svm</td>\n",
       "    </tr>\n",
       "    <tr>\n",
       "      <th>2016-12-30</th>\n",
       "      <td>svm</td>\n",
       "    </tr>\n",
       "    <tr>\n",
       "      <th>2017-01-31</th>\n",
       "      <td>lasso</td>\n",
       "    </tr>\n",
       "    <tr>\n",
       "      <th>2017-02-28</th>\n",
       "      <td>lasso</td>\n",
       "    </tr>\n",
       "    <tr>\n",
       "      <th>2017-03-31</th>\n",
       "      <td>lasso</td>\n",
       "    </tr>\n",
       "    <tr>\n",
       "      <th>2017-04-28</th>\n",
       "      <td>lasso</td>\n",
       "    </tr>\n",
       "    <tr>\n",
       "      <th>2017-05-31</th>\n",
       "      <td>lasso</td>\n",
       "    </tr>\n",
       "    <tr>\n",
       "      <th>2017-06-30</th>\n",
       "      <td>lasso</td>\n",
       "    </tr>\n",
       "    <tr>\n",
       "      <th>2017-07-31</th>\n",
       "      <td>lasso</td>\n",
       "    </tr>\n",
       "    <tr>\n",
       "      <th>2017-08-31</th>\n",
       "      <td>svm</td>\n",
       "    </tr>\n",
       "    <tr>\n",
       "      <th>2017-09-29</th>\n",
       "      <td>lasso</td>\n",
       "    </tr>\n",
       "    <tr>\n",
       "      <th>2017-10-31</th>\n",
       "      <td>lasso</td>\n",
       "    </tr>\n",
       "    <tr>\n",
       "      <th>2017-11-30</th>\n",
       "      <td>lasso</td>\n",
       "    </tr>\n",
       "    <tr>\n",
       "      <th>2017-12-29</th>\n",
       "      <td>lasso</td>\n",
       "    </tr>\n",
       "    <tr>\n",
       "      <th>2018-01-31</th>\n",
       "      <td>lasso</td>\n",
       "    </tr>\n",
       "    <tr>\n",
       "      <th>2018-02-28</th>\n",
       "      <td>lasso</td>\n",
       "    </tr>\n",
       "    <tr>\n",
       "      <th>2018-04-30</th>\n",
       "      <td>lasso</td>\n",
       "    </tr>\n",
       "    <tr>\n",
       "      <th>2018-05-31</th>\n",
       "      <td>lasso</td>\n",
       "    </tr>\n",
       "    <tr>\n",
       "      <th>2018-06-29</th>\n",
       "      <td>lasso</td>\n",
       "    </tr>\n",
       "    <tr>\n",
       "      <th>2018-07-31</th>\n",
       "      <td>lstm</td>\n",
       "    </tr>\n",
       "    <tr>\n",
       "      <th>2018-08-31</th>\n",
       "      <td>lstm</td>\n",
       "    </tr>\n",
       "    <tr>\n",
       "      <th>2018-09-28</th>\n",
       "      <td>ridge</td>\n",
       "    </tr>\n",
       "    <tr>\n",
       "      <th>2018-10-31</th>\n",
       "      <td>ridge</td>\n",
       "    </tr>\n",
       "    <tr>\n",
       "      <th>2018-11-30</th>\n",
       "      <td>svm</td>\n",
       "    </tr>\n",
       "  </tbody>\n",
       "</table>\n",
       "<p>154 rows × 1 columns</p>\n",
       "</div>"
      ],
      "text/plain": [
       "           model_name\n",
       "2005-11-30      lasso\n",
       "2005-12-30        svm\n",
       "2006-01-31        svm\n",
       "2006-02-28        svm\n",
       "2006-03-31        svm\n",
       "2006-04-28      lasso\n",
       "2006-05-31       lstm\n",
       "2006-06-30      lasso\n",
       "2006-07-31       lstm\n",
       "2006-08-31       lstm\n",
       "2006-09-29       lstm\n",
       "2006-10-31       lstm\n",
       "2006-11-30        svm\n",
       "2006-12-29        svm\n",
       "2007-01-31        svm\n",
       "2007-02-28      lasso\n",
       "2007-03-30       lstm\n",
       "2007-04-30      lasso\n",
       "2007-05-31       lstm\n",
       "2007-06-29        svm\n",
       "2007-07-31        svm\n",
       "2007-08-31        svm\n",
       "2007-09-28        svm\n",
       "2007-10-31       lstm\n",
       "2007-11-30       lstm\n",
       "2007-12-31       lstm\n",
       "2008-01-31       lstm\n",
       "2008-02-29       lstm\n",
       "2008-03-31       lstm\n",
       "2008-04-30       lstm\n",
       "...               ...\n",
       "2016-05-31       lstm\n",
       "2016-06-30         lr\n",
       "2016-07-29        svm\n",
       "2016-08-31        svm\n",
       "2016-09-30        svm\n",
       "2016-10-31        svm\n",
       "2016-11-30        svm\n",
       "2016-12-30        svm\n",
       "2017-01-31      lasso\n",
       "2017-02-28      lasso\n",
       "2017-03-31      lasso\n",
       "2017-04-28      lasso\n",
       "2017-05-31      lasso\n",
       "2017-06-30      lasso\n",
       "2017-07-31      lasso\n",
       "2017-08-31        svm\n",
       "2017-09-29      lasso\n",
       "2017-10-31      lasso\n",
       "2017-11-30      lasso\n",
       "2017-12-29      lasso\n",
       "2018-01-31      lasso\n",
       "2018-02-28      lasso\n",
       "2018-04-30      lasso\n",
       "2018-05-31      lasso\n",
       "2018-06-29      lasso\n",
       "2018-07-31       lstm\n",
       "2018-08-31       lstm\n",
       "2018-09-28      ridge\n",
       "2018-10-31      ridge\n",
       "2018-11-30        svm\n",
       "\n",
       "[154 rows x 1 columns]"
      ]
     },
     "execution_count": 42,
     "metadata": {},
     "output_type": "execute_result"
    }
   ],
   "source": [
    "df_best_model_name"
   ]
  },
  {
   "cell_type": "code",
   "execution_count": null,
   "metadata": {},
   "outputs": [],
   "source": [
    "#df_evaluation_score\n"
   ]
  },
  {
   "cell_type": "markdown",
   "metadata": {},
   "source": [
    "## Alternative "
   ]
  },
  {
   "cell_type": "code",
   "execution_count": null,
   "metadata": {},
   "outputs": [],
   "source": [
    "df_predict_best.to_csv('results/alternative_0804_lstm/df_predict_best.csv')\n",
    "\n",
    "df_predict_lr.to_csv('results/alternative_0804_lstm/df_predict_lr.csv')\n",
    "df_predict_lasso.to_csv('results/alternative_0804_lstm/df_predict_lasso.csv')\n",
    "df_predict_ridge.to_csv('results/alternative_0804_lstm/df_predict_ridge.csv')\n",
    "df_predict_rf.to_csv('results/alternative_0804_lstm/df_predict_rf.csv')\n",
    "df_predict_svm.to_csv('results/alternative_0804_lstm/df_predict_svm.csv')\n",
    "df_predict_lstm.to_csv('results/alternative_0804_lstm/df_predict_lstm.csv')\n",
    "df_evaluation.to_csv('results/alternative_0804_lstm/df_evaluation.csv')\n",
    "df_best_model_name.to_csv('results/alternative_0804_lstm/df_best_model_name.csv')\n",
    "#df_predict_gbm.to_csv('results/alternative_0730/df_predict_gbm.csv')\n",
    "#df_predict_ada.to_csv('results/alternative_0803_lstm_2/df_predict_ada.csv')\n",
    "\n"
   ]
  },
  {
   "cell_type": "code",
   "execution_count": 46,
   "metadata": {},
   "outputs": [],
   "source": []
  },
  {
   "cell_type": "code",
   "execution_count": null,
   "metadata": {},
   "outputs": [],
   "source": []
  },
  {
   "cell_type": "code",
   "execution_count": null,
   "metadata": {},
   "outputs": [],
   "source": []
  },
  {
   "cell_type": "code",
   "execution_count": null,
   "metadata": {},
   "outputs": [],
   "source": [
    "#df_predict_best"
   ]
  },
  {
   "cell_type": "markdown",
   "metadata": {},
   "source": [
    "## Financial"
   ]
  },
  {
   "cell_type": "code",
   "execution_count": null,
   "metadata": {
    "collapsed": true,
    "jupyter": {
     "outputs_hidden": true
    }
   },
   "outputs": [],
   "source": [
    "df_predict_best.to_csv('results/financial_0730/df_predict_best.csv')\n",
    "\n",
    "df_predict_lr.to_csv('results/financial_0730/df_predict_lr.csv')\n",
    "df_predict_lasso.to_csv('results/financial_0730/df_predict_lasso.csv')\n",
    "df_predict_ridge.to_csv('results/financial_0730/df_predict_ridge.csv')\n",
    "df_predict_rf.to_csv('results/financial_0730/df_predict_rf.csv')\n",
    "df_predict_svm.to_csv('results/financial_0730/df_predict_svm.csv')\n",
    "\n",
    "\n",
    "df_predict_gbm.to_csv('results/financial_0730/df_predict_gbm.csv')\n",
    "df_predict_ada.to_csv('results/financial_0730/df_predict_ada.csv')\n",
    "\n"
   ]
  },
  {
   "cell_type": "code",
   "execution_count": null,
   "metadata": {},
   "outputs": [],
   "source": []
  },
  {
   "cell_type": "markdown",
   "metadata": {},
   "source": [
    "## All Features"
   ]
  },
  {
   "cell_type": "code",
   "execution_count": null,
   "metadata": {},
   "outputs": [],
   "source": [
    "df_predict_best.to_csv('results/all_features_0730/df_predict_best.csv')\n",
    "\n",
    "df_predict_lr.to_csv('results/all_features_0730/df_predict_lr.csv')\n",
    "df_predict_lasso.to_csv('results/all_features_0730/df_predict_lasso.csv')\n",
    "df_predict_ridge.to_csv('results/all_features_0730/df_predict_ridge.csv')\n",
    "df_predict_rf.to_csv('results/all_features_0730/df_predict_rf.csv')\n",
    "df_predict_svm.to_csv('results/all_features_0730/df_predict_svm.csv')\n",
    "\n",
    "\n",
    "#df_predict_gbm.to_csv('results/all_features_0730/df_predict_gbm.csv')\n",
    "df_predict_ada.to_csv('results/all_features_0730/df_predict_ada.csv')\n",
    "\n"
   ]
  },
  {
   "cell_type": "code",
   "execution_count": null,
   "metadata": {
    "collapsed": true,
    "jupyter": {
     "outputs_hidden": true
    }
   },
   "outputs": [],
   "source": [
    "#df_evaluation_score"
   ]
  },
  {
   "cell_type": "code",
   "execution_count": null,
   "metadata": {},
   "outputs": [],
   "source": []
  },
  {
   "cell_type": "markdown",
   "metadata": {},
   "source": [
    "## Output: 2. Get Portfolio Daily Return"
   ]
  },
  {
   "cell_type": "code",
   "execution_count": 43,
   "metadata": {},
   "outputs": [
    {
     "ename": "NameError",
     "evalue": "name 'df_predict_best' is not defined",
     "output_type": "error",
     "traceback": [
      "\u001b[0;31m---------------------------------------------------------------------------\u001b[0m",
      "\u001b[0;31mNameError\u001b[0m                                 Traceback (most recent call last)",
      "\u001b[0;32m<ipython-input-43-0ce07c1d5176>\u001b[0m in \u001b[0;36m<module>\u001b[0;34m\u001b[0m\n\u001b[0;32m----> 1\u001b[0;31m \u001b[0mdf_portfolio_best_daily\u001b[0m\u001b[0;34m=\u001b[0m\u001b[0mlong_only_strategy_daily\u001b[0m\u001b[0;34m(\u001b[0m\u001b[0mdf_predict_best\u001b[0m\u001b[0;34m,\u001b[0m\u001b[0mdaily_return\u001b[0m\u001b[0;34m,\u001b[0m\u001b[0mtrade_month_plus1\u001b[0m\u001b[0;34m,\u001b[0m\u001b[0mtop_quantile_threshold\u001b[0m \u001b[0;34m=\u001b[0m \u001b[0;36m0.75\u001b[0m\u001b[0;34m)\u001b[0m\u001b[0;34m\u001b[0m\u001b[0;34m\u001b[0m\u001b[0m\n\u001b[0m\u001b[1;32m      2\u001b[0m \u001b[0;34m\u001b[0m\u001b[0m\n\u001b[1;32m      3\u001b[0m \u001b[0;34m\u001b[0m\u001b[0m\n\u001b[1;32m      4\u001b[0m \u001b[0mdf_portfolio_lr_daily\u001b[0m\u001b[0;34m=\u001b[0m\u001b[0mlong_only_strategy_daily\u001b[0m\u001b[0;34m(\u001b[0m\u001b[0mdf_predict_lr\u001b[0m\u001b[0;34m,\u001b[0m\u001b[0mdaily_return\u001b[0m\u001b[0;34m,\u001b[0m\u001b[0mtrade_month_plus1\u001b[0m\u001b[0;34m,\u001b[0m\u001b[0mtop_quantile_threshold\u001b[0m \u001b[0;34m=\u001b[0m \u001b[0;36m0.75\u001b[0m\u001b[0;34m)\u001b[0m\u001b[0;34m\u001b[0m\u001b[0;34m\u001b[0m\u001b[0m\n\u001b[1;32m      5\u001b[0m \u001b[0mdf_portfolio_lasso_daily\u001b[0m\u001b[0;34m=\u001b[0m\u001b[0mlong_only_strategy_daily\u001b[0m\u001b[0;34m(\u001b[0m\u001b[0mdf_predict_lasso\u001b[0m\u001b[0;34m,\u001b[0m\u001b[0mdaily_return\u001b[0m\u001b[0;34m,\u001b[0m\u001b[0mtrade_month_plus1\u001b[0m\u001b[0;34m,\u001b[0m\u001b[0mtop_quantile_threshold\u001b[0m \u001b[0;34m=\u001b[0m \u001b[0;36m0.75\u001b[0m\u001b[0;34m)\u001b[0m\u001b[0;34m\u001b[0m\u001b[0;34m\u001b[0m\u001b[0m\n",
      "\u001b[0;31mNameError\u001b[0m: name 'df_predict_best' is not defined"
     ]
    }
   ],
   "source": [
    "df_portfolio_best_daily=long_only_strategy_daily(df_predict_best,daily_return,trade_month_plus1,top_quantile_threshold = 0.75)\n",
    "\n",
    "\n",
    "df_portfolio_lr_daily=long_only_strategy_daily(df_predict_lr,daily_return,trade_month_plus1,top_quantile_threshold = 0.75)\n",
    "df_portfolio_lasso_daily=long_only_strategy_daily(df_predict_lasso,daily_return,trade_month_plus1,top_quantile_threshold = 0.75)\n",
    "df_portfolio_ridge_daily=long_only_strategy_daily(df_predict_ridge,daily_return,trade_month_plus1,top_quantile_threshold = 0.75)\n",
    "df_portfolio_rf_daily=long_only_strategy_daily(df_predict_rf,daily_return,trade_month_plus1,top_quantile_threshold = 0.75)\n",
    "df_portfolio_svm_daily=long_only_strategy_daily(df_predict_svm,daily_return,trade_month_plus1,top_quantile_threshold = 0.75)\n",
    "df_portfolio_lstm_daily=long_only_strategy_daily(df_predict_lstm,daily_return,trade_month_plus1,top_quantile_threshold = 0.75)\n",
    "\n",
    "#df_portfolio_gbm_daily=long_only_strategy_daily(df_predict_gbm,daily_return,trade_month_plus1,top_quantile_threshold = 0.75)\n",
    "#df_portfolio_ada_daily=long_only_strategy_daily(df_predict_ada,daily_return,trade_month_plus1,top_quantile_threshold = 0.75)\n",
    "\n"
   ]
  },
  {
   "cell_type": "code",
   "execution_count": null,
   "metadata": {
    "collapsed": true,
    "jupyter": {
     "outputs_hidden": true
    }
   },
   "outputs": [],
   "source": [
    "#df_predict_best[df_predict_best.index<='2018-08-31']"
   ]
  },
  {
   "cell_type": "markdown",
   "metadata": {},
   "source": [
    "## Alternative"
   ]
  },
  {
   "cell_type": "code",
   "execution_count": null,
   "metadata": {},
   "outputs": [],
   "source": [
    "df_portfolio_best_daily.to_csv('results/alternative_0804_lstm/df_portfolio_best_daily.csv')\n",
    "\n",
    "\n",
    "df_portfolio_lr_daily.to_csv('results/alternative_0804_lstm/df_portfolio_lr_daily.csv')\n",
    "df_portfolio_lasso_daily.to_csv('results/alternative_0804_lstm/df_portfolio_lasso_daily.csv')\n",
    "df_portfolio_ridge_daily.to_csv('results/alternative_0804_lstm/df_portfolio_ridge_daily.csv')\n",
    "df_portfolio_rf_daily.to_csv('results/alternative_0804_lstm/df_portfolio_rf_daily.csv')\n",
    "df_portfolio_svm_daily.to_csv('results/alternative_0804_lstm/df_portfolio_svm_daily.csv')\n",
    "df_portfolio_lstm_daily.to_csv('results/alternative_0804_lstm/df_portfolio_lstm_daily.csv')\n",
    "\n",
    "#df_portfolio_gbm_daily.to_csv('results/alternative_0730/df_portfolio_gbm_daily.csv')\n",
    "#df_portfolio_ada_daily.to_csv('results/alternative_0803_lstm_2/df_portfolio_ada_daily.csv')\n"
   ]
  },
  {
   "cell_type": "markdown",
   "metadata": {},
   "source": [
    "## Financial"
   ]
  },
  {
   "cell_type": "code",
   "execution_count": null,
   "metadata": {
    "collapsed": true,
    "jupyter": {
     "outputs_hidden": true
    }
   },
   "outputs": [],
   "source": [
    "df_portfolio_best_daily.to_csv('results/financial_0730/df_portfolio_best_daily.csv')\n",
    "\n",
    "\n",
    "df_portfolio_lr_daily.to_csv('results/financial_0730/df_portfolio_lr_daily.csv')\n",
    "df_portfolio_lasso_daily.to_csv('results/financial_0730/df_portfolio_lasso_daily.csv')\n",
    "df_portfolio_ridge_daily.to_csv('results/financial_0730/df_portfolio_ridge_daily.csv')\n",
    "df_portfolio_rf_daily.to_csv('results/financial_0730/df_portfolio_rf_daily.csv')\n",
    "df_portfolio_svm_daily.to_csv('results/financial_0730/df_portfolio_svm_daily.csv')\n",
    "\n",
    "\n",
    "df_portfolio_gbm_daily.to_csv('results/financial_0730/df_portfolio_gbm_daily.csv')\n",
    "df_portfolio_ada_daily.to_csv('results/financial_0730/df_portfolio_ada_daily.csv')\n"
   ]
  },
  {
   "cell_type": "markdown",
   "metadata": {},
   "source": [
    "## All Features"
   ]
  },
  {
   "cell_type": "code",
   "execution_count": null,
   "metadata": {},
   "outputs": [],
   "source": [
    "df_portfolio_best_daily.to_csv('results/all_features_0730/df_portfolio_best_daily.csv')\n",
    "\n",
    "\n",
    "df_portfolio_lr_daily.to_csv('results/all_features_0730/df_portfolio_lr_daily.csv')\n",
    "df_portfolio_lasso_daily.to_csv('results/all_features_0730/df_portfolio_lasso_daily.csv')\n",
    "df_portfolio_ridge_daily.to_csv('results/all_features_0730/df_portfolio_ridge_daily.csv')\n",
    "df_portfolio_rf_daily.to_csv('results/all_features_0730/df_portfolio_rf_daily.csv')\n",
    "df_portfolio_svm_daily.to_csv('results/all_features_0730/df_portfolio_svm_daily.csv')\n",
    "\n",
    "\n",
    "df_portfolio_gbm_daily.to_csv('results/all_features_0730/df_portfolio_gbm_daily.csv')\n",
    "df_portfolio_ada_daily.to_csv('results/all_features_0730/df_portfolio_ada_daily.csv')\n"
   ]
  },
  {
   "cell_type": "code",
   "execution_count": null,
   "metadata": {},
   "outputs": [],
   "source": [
    "type(df_portfolio_best_daily)"
   ]
  },
  {
   "cell_type": "code",
   "execution_count": null,
   "metadata": {},
   "outputs": [],
   "source": [
    "df_portfolio_best_daily.shape"
   ]
  },
  {
   "cell_type": "code",
   "execution_count": null,
   "metadata": {},
   "outputs": [],
   "source": []
  },
  {
   "cell_type": "markdown",
   "metadata": {},
   "source": [
    "## Back-Testing"
   ]
  },
  {
   "cell_type": "code",
   "execution_count": null,
   "metadata": {
    "collapsed": true,
    "jupyter": {
     "outputs_hidden": true
    }
   },
   "outputs": [],
   "source": [
    "cumulative_return_best=(df_portfolio_best_daily[df_portfolio_best_daily.index<='2018-08-31'].daily_return+1).cumprod()-1"
   ]
  },
  {
   "cell_type": "code",
   "execution_count": null,
   "metadata": {
    "collapsed": true,
    "jupyter": {
     "outputs_hidden": true
    }
   },
   "outputs": [],
   "source": [
    "cumulative_return_lr=(df_portfolio_lr_daily[df_portfolio_lr_daily.index<='2018-08-31'].daily_return+1).cumprod()-1"
   ]
  },
  {
   "cell_type": "code",
   "execution_count": null,
   "metadata": {
    "collapsed": true,
    "jupyter": {
     "outputs_hidden": true
    }
   },
   "outputs": [],
   "source": [
    "cumulative_return_rf=(df_portfolio_rf_daily[df_portfolio_rf_daily.index<='2018-08-31'].daily_return+1).cumprod()-1"
   ]
  },
  {
   "cell_type": "code",
   "execution_count": null,
   "metadata": {
    "collapsed": true,
    "jupyter": {
     "outputs_hidden": true
    }
   },
   "outputs": [],
   "source": [
    "cumulative_return_gbm=(df_portfolio_gbm_daily[df_portfolio_gbm_daily.index<='2018-08-31'].daily_return+1).cumprod()-1"
   ]
  },
  {
   "cell_type": "code",
   "execution_count": null,
   "metadata": {},
   "outputs": [],
   "source": [
    "cumulative_return_lasso=(df_portfolio_lasso_daily[df_portfolio_lasso_daily.index<='2018-08-31'].daily_return+1).cumprod()-1"
   ]
  },
  {
   "cell_type": "code",
   "execution_count": null,
   "metadata": {
    "collapsed": true,
    "jupyter": {
     "outputs_hidden": true
    }
   },
   "outputs": [],
   "source": [
    "#cumulative_return_gbm"
   ]
  },
  {
   "cell_type": "code",
   "execution_count": null,
   "metadata": {},
   "outputs": [],
   "source": [
    "cumulative_return_gbm.tail()"
   ]
  },
  {
   "cell_type": "code",
   "execution_count": null,
   "metadata": {},
   "outputs": [],
   "source": [
    "cumulative_return_rf.tail()"
   ]
  },
  {
   "cell_type": "code",
   "execution_count": null,
   "metadata": {},
   "outputs": [],
   "source": [
    "cumulative_return_lr.tail()"
   ]
  },
  {
   "cell_type": "code",
   "execution_count": null,
   "metadata": {},
   "outputs": [],
   "source": [
    "cumulative_return_best.tail()\n"
   ]
  },
  {
   "cell_type": "code",
   "execution_count": null,
   "metadata": {},
   "outputs": [],
   "source": [
    "cumulative_return_lasso.tail()\n"
   ]
  },
  {
   "cell_type": "code",
   "execution_count": null,
   "metadata": {},
   "outputs": [],
   "source": [
    "import matplotlib.pyplot as plt\n",
    "%matplotlib inline\n",
    "\n",
    "plt.figure(figsize=(15,10))\n",
    "cumulative_return_best.plot(c='r',label='best')\n",
    "cumulative_return_gbm.plot(c='green',label='gbm')\n",
    "cumulative_return_rf.plot(c='plum',label='random forest')\n",
    "cumulative_return_lasso.plot(c='g',label='lasso')\n",
    "cumulative_return_lr.plot(c='b',label='linear regression')\n",
    "#nas_return.cumsum().plot(c='yellow',label='nas')\n",
    "\n",
    "\n",
    "plt.legend()\n"
   ]
  },
  {
   "cell_type": "code",
   "execution_count": null,
   "metadata": {
    "collapsed": true,
    "jupyter": {
     "outputs_hidden": true
    }
   },
   "outputs": [],
   "source": []
  },
  {
   "cell_type": "code",
   "execution_count": null,
   "metadata": {
    "collapsed": true,
    "jupyter": {
     "outputs_hidden": true
    }
   },
   "outputs": [],
   "source": []
  },
  {
   "cell_type": "code",
   "execution_count": null,
   "metadata": {
    "collapsed": true,
    "jupyter": {
     "outputs_hidden": true
    }
   },
   "outputs": [],
   "source": []
  },
  {
   "cell_type": "code",
   "execution_count": null,
   "metadata": {
    "collapsed": true,
    "jupyter": {
     "outputs_hidden": true
    }
   },
   "outputs": [],
   "source": []
  },
  {
   "cell_type": "markdown",
   "metadata": {},
   "source": [
    "## Output: 3. Get Portfolio Monthly Return"
   ]
  },
  {
   "cell_type": "code",
   "execution_count": null,
   "metadata": {
    "collapsed": true,
    "jupyter": {
     "outputs_hidden": true
    }
   },
   "outputs": [],
   "source": [
    "df_portfolio_return_lr=long_only_strategy_monthly(df_predict_lr,tic_monthly_return,trade_month,top_quantile_threshold = 0.75)\n",
    "df_portfolio_return_rf=long_only_strategy_monthly(df_predict_rf,tic_monthly_return,trade_month,top_quantile_threshold = 0.75)\n",
    "df_portfolio_return_lasso=long_only_strategy_monthly(df_predict_lasso,tic_monthly_return,trade_month,top_quantile_threshold = 0.75)\n",
    "df_portfolio_return_gbm=long_only_strategy_monthly(df_predict_gbm,tic_monthly_return,trade_month,top_quantile_threshold = 0.75)\n",
    "df_portfolio_return_ada=long_only_strategy_monthly(df_predict_ada,tic_monthly_return,trade_month,top_quantile_threshold = 0.75)\n",
    "\n",
    "df_portfolio_return_best=long_only_strategy_monthly(df_predict_best,tic_monthly_return,trade_month,top_quantile_threshold = 0.75)\n"
   ]
  },
  {
   "cell_type": "code",
   "execution_count": null,
   "metadata": {
    "collapsed": true,
    "jupyter": {
     "outputs_hidden": true
    }
   },
   "outputs": [],
   "source": []
  },
  {
   "cell_type": "code",
   "execution_count": null,
   "metadata": {},
   "outputs": [],
   "source": [
    "import matplotlib.pyplot as plt\n",
    "%matplotlib inline\n",
    "\n",
    "plt.figure(figsize=(15,10))\n",
    "\n",
    "baseline=((df_equally_portfolio_return+1).cumprod()-1).plot(c='black',label='baseline')\n",
    "lr=((df_portfolio_return_lr+1).cumprod()-1).plot(c='b',label='linear regression')\n",
    "rf=((df_portfolio_return_rf+1).cumprod()-1).plot(c='plum',label='random forest')\n",
    "lasso=((df_portfolio_return_lasso+1).cumprod()-1).plot(c='gold',label='lasso')\n",
    "gbm=((df_portfolio_return_gbm+1).cumprod()-1).plot(c='green',label='gbm')\n",
    "#ada=df_portfolio_return_ada.cumsum().plot(c='purple',label='ada')\n",
    "best=((df_portfolio_return_best+1).cumprod()-1).plot(c='r',label='best')\n",
    "#plt.legend([baseline,lr,rf,lasso,gbm,ada,best], [\"b\",\"c\",\"d\",\"e\",'f','g','h'], loc=1)\n",
    "plt.legend()\n",
    "\n",
    "\n",
    "plt.title('Cumulative Return',size=20)"
   ]
  },
  {
   "cell_type": "code",
   "execution_count": null,
   "metadata": {},
   "outputs": [],
   "source": [
    "((df_portfolio_return_best+1).cumprod()-1)"
   ]
  },
  {
   "cell_type": "code",
   "execution_count": null,
   "metadata": {},
   "outputs": [],
   "source": [
    "df_evaluation_score[0]"
   ]
  },
  {
   "cell_type": "code",
   "execution_count": null,
   "metadata": {
    "collapsed": true,
    "jupyter": {
     "outputs_hidden": true
    }
   },
   "outputs": [],
   "source": []
  },
  {
   "cell_type": "code",
   "execution_count": null,
   "metadata": {},
   "outputs": [],
   "source": []
  },
  {
   "cell_type": "code",
   "execution_count": null,
   "metadata": {},
   "outputs": [],
   "source": []
  },
  {
   "cell_type": "markdown",
   "metadata": {},
   "source": [
    "## Testing"
   ]
  },
  {
   "cell_type": "code",
   "execution_count": 135,
   "metadata": {},
   "outputs": [],
   "source": [
    "df_predict_best=pd.read_csv('results/alternative_0803_lstm_2/df_predict_best.csv',index_col=0)\n",
    "\n",
    "def long_only_strategy_daily(df_predict_return, daily_return, trade_month_plus1, top_quantile_threshold=0.7):\n",
    "    long_dict = {}\n",
    "    top_stocks=pd.DataFrame()\n",
    "    for i in range(df_predict_return.shape[0]):\n",
    "        top_q = df_predict_return.iloc[i].quantile(top_quantile_threshold)\n",
    "        # low_q=df_predict_return.iloc[i].quantile(0.2)\n",
    "        # Select all stocks\n",
    "        # long_dict[df_predict_return.index[i]] = df_predict_return.iloc[i][~np.isnan(df_predict_return.iloc[i])]\n",
    "        # Select Top 30% Stocks\n",
    "        long_dict[df_predict_return.index[i]] = df_predict_return.iloc[i][df_predict_return.iloc[i] >= top_q]\n",
    "        temp_stocks = df_predict_return.iloc[i][df_predict_return.iloc[i] >= top_q].reset_index()\n",
    "        temp_stocks.columns = ['tic','predicted_return']\n",
    "        temp_stocks['trade_date'] = df_predict_return.index[i]\n",
    "        top_stocks=top_stocks.append(temp_stocks,ignore_index=True)\n",
    "        # short_dict[df_predict_return.index[i]] = df_predict_return.iloc[i][df_predict_return.iloc[i]<=low_q]\n",
    "\n",
    "    df_portfolio_return_daily = pd.DataFrame(columns=['daily_return'])\n",
    "    for i in range(len(trade_month_plus1) - 1):\n",
    "        # for long only\n",
    "        #equally weight\n",
    "        long_normalize_weight = 1/long_dict[trade_month_plus1[i]].shape[0]\n",
    "        \n",
    "        # calculate weight based on predicted return\n",
    "        #long_normalize_weight = \\\n",
    "        #long_dict[trade_month_plus1[i]] / sum(long_dict[trade_month_plus1[i]].values)\n",
    "        # map date and tic\n",
    "        long_tic_return_daily = \\\n",
    "        daily_return[(daily_return.index >= trade_month_plus1[i]) & (daily_return.index < trade_month_plus1[i + 1])][\n",
    "            long_dict[trade_month_plus1[i]].index]\n",
    "        # return * weight\n",
    "        long_daily_return = long_tic_return_daily * long_normalize_weight\n",
    "        df_temp = long_daily_return.sum(axis=1)\n",
    "        df_temp = pd.DataFrame(df_temp, columns=['daily_return'])\n",
    "        df_portfolio_return_daily = df_portfolio_return_daily.append(df_temp)\n",
    "\n",
    "        # for short only\n",
    "        # short_normalize_weight=short_dict[trade_month[i]]/sum(short_dict[trade_month[i]].values)\n",
    "        # short_tic_return=tic_monthly_return[tic_monthly_return.index==trade_month[i]][short_dict[trade_month[i]].index]\n",
    "        # short_return_table=short_tic_return\n",
    "        # portfolio_return_dic[trade_month[i]] = long_return_table.values.sum() + short_return_table.values.sum()\n",
    "\n",
    "    return top_stocks,df_portfolio_return_daily"
   ]
  },
  {
   "cell_type": "code",
   "execution_count": 142,
   "metadata": {},
   "outputs": [],
   "source": [
    "top_quantile_stocks,df_portfolio_best_daily=long_only_strategy_daily(df_predict_best,daily_return,trade_month_plus1,top_quantile_threshold = 0.75)\n"
   ]
  },
  {
   "cell_type": "code",
   "execution_count": 150,
   "metadata": {
    "scrolled": true
   },
   "outputs": [],
   "source": [
    "#top_quantile_stocks.to_excel('results/alternative_0804_lstm/top_quantile_stocks.xlsx','Sheet1')"
   ]
  },
  {
   "cell_type": "code",
   "execution_count": 148,
   "metadata": {},
   "outputs": [],
   "source": [
    "best_stocks = top_quantile_stocks[top_quantile_stocks['trade_date']>='2017-07-30'].groupby('tic')['predicted_return'].count().sort_values(ascending=False).reset_index()\n",
    "best_stocks.columns=['tic','total_picked']"
   ]
  },
  {
   "cell_type": "code",
   "execution_count": 151,
   "metadata": {},
   "outputs": [],
   "source": [
    "#best_stocks.to_excel('results/alternative_0804_lstm/best_stocks_2017.xlsx','Sheet1')"
   ]
  },
  {
   "cell_type": "code",
   "execution_count": null,
   "metadata": {},
   "outputs": [],
   "source": []
  }
 ],
 "metadata": {
  "kernelspec": {
   "display_name": "Python 3",
   "language": "python",
   "name": "python3"
  },
  "language_info": {
   "codemirror_mode": {
    "name": "ipython",
    "version": 3
   },
   "file_extension": ".py",
   "mimetype": "text/x-python",
   "name": "python",
   "nbconvert_exporter": "python",
   "pygments_lexer": "ipython3",
   "version": "3.6.9"
  }
 },
 "nbformat": 4,
 "nbformat_minor": 4
}
