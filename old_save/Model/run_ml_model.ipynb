{
 "cells": [
  {
   "cell_type": "code",
   "execution_count": 1,
   "metadata": {
    "collapsed": true
   },
   "outputs": [],
   "source": [
    "import warnings\n",
    "warnings.filterwarnings(\"ignore\")"
   ]
  },
  {
   "cell_type": "code",
   "execution_count": 2,
   "metadata": {},
   "outputs": [
    {
     "name": "stderr",
     "output_type": "stream",
     "text": [
      "/Users/hongyangyang/anaconda3/lib/python3.6/site-packages/sklearn/ensemble/weight_boosting.py:29: DeprecationWarning: numpy.core.umath_tests is an internal NumPy module and should not be imported. It will be removed in a future NumPy release.\n",
      "  from numpy.core.umath_tests import inner1d\n"
     ]
    }
   ],
   "source": [
    "import pandas as pd\n",
    "import numpy as np\n",
    "\n",
    "from ml_model import run_model\n",
    "from ml_model import long_only_strategy_daily\n",
    "from ml_model import long_only_strategy_monthly"
   ]
  },
  {
   "cell_type": "code",
   "execution_count": 3,
   "metadata": {
    "collapsed": true
   },
   "outputs": [],
   "source": [
    "df = pd.read_excel('analysis.xlsx',\"Sheet1\")"
   ]
  },
  {
   "cell_type": "code",
   "execution_count": 4,
   "metadata": {},
   "outputs": [
    {
     "data": {
      "text/plain": [
       "Index(['date', 'ticker', 'monthly_return', 'paper_month', 'total_count',\n",
       "       'total_count_cumsum', 'total_citation', 'total_citation_cumsum',\n",
       "       'patent_count', 'patent_count_cumsum', 'patent_citation',\n",
       "       'patent_citation_cumsum', 'journal_count', 'journal_count_cumsum',\n",
       "       'journal_citation', 'journal_citation_cumsum', 'conference_count',\n",
       "       'conference_count_cumsum', 'conference_citation',\n",
       "       'conference_citation_cumsum', 'Articles_count', 'Articles_count_cumsum',\n",
       "       'Articles_citation', 'Articles_citation_cumsum', 'Books_count',\n",
       "       'Books_count_cumsum', 'Books_citation', 'Books_citation_cumsum',\n",
       "       'total_average_citation', 'total_max_citation',\n",
       "       'patent_average_citation', 'patent_max_citation',\n",
       "       'journal_average_citation', 'journal_max_citation',\n",
       "       'conference_average_citation', 'conference_max_citation',\n",
       "       'Articles_average_citation', 'Articles_max_citation',\n",
       "       'Books_average_citation', 'Books_max_citation'],\n",
       "      dtype='object')"
      ]
     },
     "execution_count": 4,
     "metadata": {},
     "output_type": "execute_result"
    }
   ],
   "source": [
    "df.columns"
   ]
  },
  {
   "cell_type": "code",
   "execution_count": 5,
   "metadata": {
    "collapsed": true
   },
   "outputs": [],
   "source": [
    "features_column = ['total_count',\n",
    "       'total_count_cumsum', 'total_citation', 'total_citation_cumsum',\n",
    "       'patent_count', 'patent_count_cumsum', 'patent_citation',\n",
    "       'patent_citation_cumsum', 'journal_count', 'journal_count_cumsum',\n",
    "       'journal_citation', 'journal_citation_cumsum', 'conference_count',\n",
    "       'conference_count_cumsum', 'conference_citation',\n",
    "       'conference_citation_cumsum', 'Articles_count', 'Articles_count_cumsum',\n",
    "       'Articles_citation', 'Articles_citation_cumsum', 'Books_count',\n",
    "       'Books_count_cumsum', 'Books_citation', 'Books_citation_cumsum',\n",
    "       'total_average_citation', 'total_max_citation',\n",
    "       'patent_average_citation', 'patent_max_citation',\n",
    "       'journal_average_citation', 'journal_max_citation',\n",
    "       'conference_average_citation', 'conference_max_citation',\n",
    "       'Articles_average_citation', 'Articles_max_citation',\n",
    "       'Books_average_citation', 'Books_max_citation']"
   ]
  },
  {
   "cell_type": "markdown",
   "metadata": {},
   "source": [
    "# Prepare Data"
   ]
  },
  {
   "cell_type": "markdown",
   "metadata": {},
   "source": [
    "## 1. Get Unique Ticker"
   ]
  },
  {
   "cell_type": "code",
   "execution_count": 6,
   "metadata": {
    "collapsed": true
   },
   "outputs": [],
   "source": [
    "unique_ticker = sorted(df.ticker.unique())"
   ]
  },
  {
   "cell_type": "code",
   "execution_count": 7,
   "metadata": {},
   "outputs": [
    {
     "data": {
      "text/plain": [
       "93"
      ]
     },
     "execution_count": 7,
     "metadata": {},
     "output_type": "execute_result"
    }
   ],
   "source": [
    "len(unique_ticker)"
   ]
  },
  {
   "cell_type": "markdown",
   "metadata": {},
   "source": [
    "## 2. Get Unique Datatime (monthly)"
   ]
  },
  {
   "cell_type": "code",
   "execution_count": 8,
   "metadata": {
    "collapsed": true
   },
   "outputs": [],
   "source": [
    "unique_datetime=[x.strftime(\"%Y-%m-%d\") for x in df.date.dt.date.unique()]"
   ]
  },
  {
   "cell_type": "code",
   "execution_count": 9,
   "metadata": {},
   "outputs": [
    {
     "data": {
      "text/plain": [
       "108"
      ]
     },
     "execution_count": 9,
     "metadata": {},
     "output_type": "execute_result"
    }
   ],
   "source": [
    "len(unique_datetime)"
   ]
  },
  {
   "cell_type": "code",
   "execution_count": 10,
   "metadata": {},
   "outputs": [
    {
     "data": {
      "text/plain": [
       "9.0"
      ]
     },
     "execution_count": 10,
     "metadata": {},
     "output_type": "execute_result"
    }
   ],
   "source": [
    "len(unique_datetime)/12"
   ]
  },
  {
   "cell_type": "code",
   "execution_count": 11,
   "metadata": {},
   "outputs": [
    {
     "data": {
      "text/plain": [
       "'2013-07-31'"
      ]
     },
     "execution_count": 11,
     "metadata": {},
     "output_type": "execute_result"
    }
   ],
   "source": [
    "unique_datetime[42]"
   ]
  },
  {
   "cell_type": "markdown",
   "metadata": {},
   "source": [
    "## 3. Get Trade Month"
   ]
  },
  {
   "cell_type": "code",
   "execution_count": 12,
   "metadata": {
    "collapsed": true
   },
   "outputs": [],
   "source": [
    "trade_month = unique_datetime[42:]"
   ]
  },
  {
   "cell_type": "code",
   "execution_count": 13,
   "metadata": {},
   "outputs": [
    {
     "data": {
      "text/plain": [
       "66"
      ]
     },
     "execution_count": 13,
     "metadata": {},
     "output_type": "execute_result"
    }
   ],
   "source": [
    "len(trade_month)"
   ]
  },
  {
   "cell_type": "markdown",
   "metadata": {},
   "source": [
    "## 4. Get tic Monthly Return"
   ]
  },
  {
   "cell_type": "code",
   "execution_count": 14,
   "metadata": {
    "collapsed": true
   },
   "outputs": [],
   "source": [
    "tic_monthly_return=df.pivot('date','ticker','monthly_return')\n",
    "tic_monthly_return=tic_monthly_return.reset_index()\n",
    "tic_monthly_return.index=tic_monthly_return.date\n",
    "del tic_monthly_return['date']"
   ]
  },
  {
   "cell_type": "code",
   "execution_count": 15,
   "metadata": {
    "collapsed": true
   },
   "outputs": [],
   "source": [
    "tic_monthly_return=tic_monthly_return[tic_monthly_return.index>=unique_datetime[42]]"
   ]
  },
  {
   "cell_type": "code",
   "execution_count": 16,
   "metadata": {},
   "outputs": [
    {
     "data": {
      "text/plain": [
       "(66, 93)"
      ]
     },
     "execution_count": 16,
     "metadata": {},
     "output_type": "execute_result"
    }
   ],
   "source": [
    "tic_monthly_return.shape"
   ]
  },
  {
   "cell_type": "code",
   "execution_count": 17,
   "metadata": {
    "collapsed": true
   },
   "outputs": [],
   "source": [
    "#tic_monthly_return.to_excel(\"tic_monthly_return.xlsx\",\"Sheet1\")"
   ]
  },
  {
   "cell_type": "markdown",
   "metadata": {},
   "source": [
    "## 5. Get Equally Portfolio Monthly Return"
   ]
  },
  {
   "cell_type": "code",
   "execution_count": 18,
   "metadata": {
    "collapsed": true
   },
   "outputs": [],
   "source": [
    "equally_portfolio_return=[]\n",
    "for i in range(len(trade_month)):\n",
    "    return_remove_nan = tic_monthly_return.iloc[i][~np.isnan(tic_monthly_return.iloc[i])]\n",
    "    equally_portfolio_return.append(sum(return_remove_nan)/len(return_remove_nan))\n"
   ]
  },
  {
   "cell_type": "code",
   "execution_count": 19,
   "metadata": {
    "collapsed": true
   },
   "outputs": [],
   "source": [
    "df_equally_portfolio_return=pd.DataFrame(equally_portfolio_return,trade_month)\n",
    "df_equally_portfolio_return=df_equally_portfolio_return.reset_index()\n",
    "df_equally_portfolio_return.columns= ['trade_month','monthly_return']\n",
    "df_equally_portfolio_return.index=df_equally_portfolio_return.trade_month\n",
    "df_equally_portfolio_return=df_equally_portfolio_return['monthly_return']\n",
    "\n"
   ]
  },
  {
   "cell_type": "code",
   "execution_count": 20,
   "metadata": {},
   "outputs": [
    {
     "data": {
      "text/plain": [
       "(66,)"
      ]
     },
     "execution_count": 20,
     "metadata": {},
     "output_type": "execute_result"
    }
   ],
   "source": [
    "df_equally_portfolio_return.shape"
   ]
  },
  {
   "cell_type": "markdown",
   "metadata": {},
   "source": [
    "## 6. Get Daily price"
   ]
  },
  {
   "cell_type": "code",
   "execution_count": 21,
   "metadata": {
    "collapsed": true
   },
   "outputs": [],
   "source": [
    "daily_price = pd.read_csv(\"adj_close_price.csv\")\n",
    "daily_price.index = daily_price.date\n",
    "daily_price=daily_price[unique_ticker]"
   ]
  },
  {
   "cell_type": "code",
   "execution_count": 22,
   "metadata": {
    "collapsed": true
   },
   "outputs": [],
   "source": [
    "#daily_return = daily_price.pct_change()\n",
    "\n",
    "daily_return = (daily_price.shift(-1)-daily_price)/daily_price\n",
    "daily_return = daily_return[daily_return.index>=trade_month[0]]"
   ]
  },
  {
   "cell_type": "code",
   "execution_count": 23,
   "metadata": {},
   "outputs": [
    {
     "data": {
      "text/plain": [
       "(1397, 93)"
      ]
     },
     "execution_count": 23,
     "metadata": {},
     "output_type": "execute_result"
    }
   ],
   "source": [
    "daily_return.shape"
   ]
  },
  {
   "cell_type": "markdown",
   "metadata": {},
   "source": [
    "## 7. Get Trade Month for daily return"
   ]
  },
  {
   "cell_type": "code",
   "execution_count": 24,
   "metadata": {},
   "outputs": [],
   "source": [
    "trade_month_plus1=trade_month.copy()\n",
    "trade_month_plus1.append('2019-01-31')"
   ]
  },
  {
   "cell_type": "code",
   "execution_count": 25,
   "metadata": {},
   "outputs": [
    {
     "data": {
      "text/plain": [
       "66"
      ]
     },
     "execution_count": 25,
     "metadata": {},
     "output_type": "execute_result"
    }
   ],
   "source": [
    "len(trade_month)"
   ]
  },
  {
   "cell_type": "code",
   "execution_count": 26,
   "metadata": {},
   "outputs": [
    {
     "data": {
      "text/plain": [
       "67"
      ]
     },
     "execution_count": 26,
     "metadata": {},
     "output_type": "execute_result"
    }
   ],
   "source": [
    "len(trade_month_plus1)"
   ]
  },
  {
   "cell_type": "markdown",
   "metadata": {},
   "source": [
    "## Run Model\n",
    "* Input: Features + Forward Month Return\n",
    "* Output: Monthly Stock Predicted Return \n"
   ]
  },
  {
   "cell_type": "code",
   "execution_count": null,
   "metadata": {},
   "outputs": [
    {
     "name": "stdout",
     "output_type": "stream",
     "text": [
      "Trade Month:  2013-07-31\n",
      "Trade Month:  2013-08-30\n",
      "Trade Month:  2013-09-30\n",
      "Trade Month:  2013-10-31\n",
      "Trade Month:  2013-11-29\n",
      "Trade Month:  2013-12-31\n",
      "Trade Month:  2014-01-31\n",
      "Trade Month:  2014-02-28\n",
      "Trade Month:  2014-03-31\n",
      "Trade Month:  2014-04-30\n",
      "Trade Month:  2014-05-30\n",
      "Trade Month:  2014-06-30\n",
      "Trade Month:  2014-07-31\n",
      "Trade Month:  2014-08-29\n",
      "Trade Month:  2014-09-30\n",
      "Trade Month:  2014-10-31\n",
      "Trade Month:  2014-11-28\n",
      "Trade Month:  2014-12-31\n",
      "Trade Month:  2015-01-30\n"
     ]
    }
   ],
   "source": [
    "%%time\n",
    "\n",
    "model_results= run_model(df,unique_ticker,unique_datetime,trade_month,features_column,first_trade_date_index = 42,testing_windows = 6)\n"
   ]
  },
  {
   "cell_type": "markdown",
   "metadata": {},
   "source": [
    "## Output: 1. Get Predicted Return"
   ]
  },
  {
   "cell_type": "code",
   "execution_count": null,
   "metadata": {
    "collapsed": true
   },
   "outputs": [],
   "source": [
    "df_predict_lr = model_results[0].astype(np.float64)\n",
    "df_predict_rf = model_results[1].astype(np.float64)\n",
    "df_predict_lasso = model_results[2].astype(np.float64)\n",
    "df_predict_gbm = model_results[3].astype(np.float64)\n",
    "df_predict_ada = model_results[4].astype(np.float64)\n",
    "df_predict_best = model_results[5].astype(np.float64)\n",
    "df_best_model_name = model_results[6]\n",
    "df_evaluation_score = model_results[7]"
   ]
  },
  {
   "cell_type": "code",
   "execution_count": null,
   "metadata": {
    "collapsed": true
   },
   "outputs": [],
   "source": [
    "#df_predict_lasso.to_excel('df_predict_lasso.xlsx','Sheet1')\n",
    "#df_predict_rf.to_excel('df_predict_rf.xlsx','Sheet1')\n",
    "#df_predict_best.to_excel('df_predict_best.xlsx','Sheet1')\n",
    "#df_predict_gbm.to_excel('df_predict_gbm.xlsx','Sheet1')\n",
    "\n"
   ]
  },
  {
   "cell_type": "code",
   "execution_count": null,
   "metadata": {
    "collapsed": true
   },
   "outputs": [],
   "source": [
    "df_best_model_name.model_name.value_counts()"
   ]
  },
  {
   "cell_type": "markdown",
   "metadata": {},
   "source": [
    "## Output: 2. Get Portfolio Daily Return"
   ]
  },
  {
   "cell_type": "code",
   "execution_count": null,
   "metadata": {
    "collapsed": true
   },
   "outputs": [],
   "source": [
    "df_portfolio_lr_daily=long_only_strategy_daily(df_predict_lr,daily_return,trade_month_plus1,top_quantile_threshold = 0.8)\n",
    "df_portfolio_rf_daily=long_only_strategy_daily(df_predict_rf,daily_return,trade_month_plus1,top_quantile_threshold = 0.8)\n",
    "df_portfolio_lasso_daily=long_only_strategy_daily(df_predict_lasso,daily_return,trade_month_plus1,top_quantile_threshold = 0.8)\n",
    "df_portfolio_gbm_daily=long_only_strategy_daily(df_predict_gbm,daily_return,trade_month_plus1,top_quantile_threshold = 0.8)\n",
    "df_portfolio_ada_daily=long_only_strategy_daily(df_predict_ada,daily_return,trade_month_plus1,top_quantile_threshold = 0.8)\n",
    "\n",
    "df_portfolio_best_daily=long_only_strategy_daily(df_predict_best,daily_return,trade_month_plus1,top_quantile_threshold = 0.8)\n"
   ]
  },
  {
   "cell_type": "code",
   "execution_count": null,
   "metadata": {
    "collapsed": true
   },
   "outputs": [],
   "source": [
    "df_portfolio_lr_daily.to_excel('df_portfolio_lr_daily.xlsx',\"Sheet1\")\n",
    "df_portfolio_rf_daily.to_excel('df_portfolio_rf_daily.xlsx',\"Sheet1\")\n",
    "df_portfolio_lasso_daily.to_excel('df_portfolio_lasso_daily.xlsx',\"Sheet1\")\n",
    "df_portfolio_gbm_daily.to_excel('df_portfolio_gbm_daily.xlsx',\"Sheet1\")\n",
    "df_portfolio_ada_daily.to_excel('df_portfolio_ada_daily.xlsx',\"Sheet1\")\n",
    "df_portfolio_best_daily.to_excel('df_portfolio_best_daily.xlsx',\"Sheet1\")\n"
   ]
  },
  {
   "cell_type": "markdown",
   "metadata": {},
   "source": [
    "## Output: 3. Get Portfolio Monthly Return"
   ]
  },
  {
   "cell_type": "code",
   "execution_count": null,
   "metadata": {
    "collapsed": true
   },
   "outputs": [],
   "source": [
    "df_portfolio_return_lr=long_only_strategy_monthly(df_predict_lr,tic_monthly_return,trade_month,top_quantile_threshold = 0.8)\n",
    "df_portfolio_return_rf=long_only_strategy_monthly(df_predict_rf,tic_monthly_return,trade_month,top_quantile_threshold = 0.8)\n",
    "df_portfolio_return_lasso=long_only_strategy_monthly(df_predict_lasso,tic_monthly_return,trade_month,top_quantile_threshold = 0.8)\n",
    "df_portfolio_return_gbm=long_only_strategy_monthly(df_predict_gbm,tic_monthly_return,trade_month,top_quantile_threshold = 0.8)\n",
    "df_portfolio_return_ada=long_only_strategy_monthly(df_predict_ada,tic_monthly_return,trade_month,top_quantile_threshold = 0.8)\n",
    "\n",
    "df_portfolio_return_best=long_only_strategy_monthly(df_predict_best,tic_monthly_return,trade_month,top_quantile_threshold = 0.8)\n"
   ]
  },
  {
   "cell_type": "code",
   "execution_count": null,
   "metadata": {
    "collapsed": true
   },
   "outputs": [],
   "source": []
  },
  {
   "cell_type": "code",
   "execution_count": null,
   "metadata": {
    "collapsed": true
   },
   "outputs": [],
   "source": []
  },
  {
   "cell_type": "code",
   "execution_count": null,
   "metadata": {
    "collapsed": true
   },
   "outputs": [],
   "source": []
  }
 ],
 "metadata": {
  "kernelspec": {
   "display_name": "Python 3",
   "language": "python",
   "name": "python3"
  },
  "language_info": {
   "codemirror_mode": {
    "name": "ipython",
    "version": 3
   },
   "file_extension": ".py",
   "mimetype": "text/x-python",
   "name": "python",
   "nbconvert_exporter": "python",
   "pygments_lexer": "ipython3",
   "version": "3.6.8"
  }
 },
 "nbformat": 4,
 "nbformat_minor": 2
}
