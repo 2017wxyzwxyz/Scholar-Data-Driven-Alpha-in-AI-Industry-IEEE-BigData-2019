{
 "cells": [
  {
   "cell_type": "markdown",
   "metadata": {},
   "source": [
    "# Smart Beta Strategies"
   ]
  },
  {
   "cell_type": "markdown",
   "metadata": {},
   "source": [
    "## 1. Benchmark Components"
   ]
  },
  {
   "cell_type": "markdown",
   "metadata": {},
   "source": [
    "<b>Benchmark:</b> Vanguard Information Technology ETF (VGT)<br>\n",
    "\n",
    "\n",
    "\n",
    "<b>Weights Review Frequency:</b> Quarterly basis"
   ]
  },
  {
   "cell_type": "markdown",
   "metadata": {},
   "source": [
    "<b>Data Source</b>: WRDS & Yahoo Finance<br>\n",
    "<b>Data Type</b>: Daily price & Volume<br>\n",
    "\n",
    "### 1.1 Download & Preprocess Data"
   ]
  },
  {
   "cell_type": "code",
   "execution_count": 302,
   "metadata": {},
   "outputs": [],
   "source": [
    "import numpy as np\n",
    "import pandas as pd\n",
    "import matplotlib.pyplot as plt\n",
    "from pandas_datareader import data as pdr\n",
    "import fix_yahoo_finance as yf\n",
    "import datetime"
   ]
  },
  {
   "cell_type": "code",
   "execution_count": 303,
   "metadata": {},
   "outputs": [
    {
     "name": "stderr",
     "output_type": "stream",
     "text": [
      "D:\\Anaconda3\\lib\\site-packages\\IPython\\core\\interactiveshell.py:2785: DtypeWarning: Columns (1) have mixed types. Specify dtype option on import or set low_memory=False.\n",
      "  interactivity=interactivity, compiler=compiler, result=result)\n"
     ]
    }
   ],
   "source": [
    "df = pd.read_csv(\"vanguard_2008_2018.csv\")"
   ]
  },
  {
   "cell_type": "code",
   "execution_count": 304,
   "metadata": {},
   "outputs": [
    {
     "data": {
      "text/plain": [
       "Index(['gvkey', 'iid', 'datadate', 'tic', 'conm', 'ajexdi', 'cshoc', 'cshtrd',\n",
       "       'eps', 'prccd', 'prchd', 'prcld', 'prcod', 'gsector'],\n",
       "      dtype='object')"
      ]
     },
     "execution_count": 304,
     "metadata": {},
     "output_type": "execute_result"
    }
   ],
   "source": [
    "df.columns"
   ]
  },
  {
   "cell_type": "code",
   "execution_count": 305,
   "metadata": {},
   "outputs": [],
   "source": [
    "stockdata=df[['datadate', 'tic', 'ajexdi','prccd']]"
   ]
  },
  {
   "cell_type": "code",
   "execution_count": 306,
   "metadata": {},
   "outputs": [
    {
     "name": "stderr",
     "output_type": "stream",
     "text": [
      "D:\\Anaconda3\\lib\\site-packages\\ipykernel_launcher.py:2: SettingWithCopyWarning: \n",
      "A value is trying to be set on a copy of a slice from a DataFrame.\n",
      "Try using .loc[row_indexer,col_indexer] = value instead\n",
      "\n",
      "See the caveats in the documentation: http://pandas.pydata.org/pandas-docs/stable/indexing.html#indexing-view-versus-copy\n",
      "  \n"
     ]
    }
   ],
   "source": [
    "#calcualte adjusted price\n",
    "stockdata['adj_price'] = stockdata['prccd']/stockdata['ajexdi']"
   ]
  },
  {
   "cell_type": "code",
   "execution_count": 307,
   "metadata": {},
   "outputs": [
    {
     "name": "stderr",
     "output_type": "stream",
     "text": [
      "D:\\Anaconda3\\lib\\site-packages\\ipykernel_launcher.py:1: SettingWithCopyWarning: \n",
      "A value is trying to be set on a copy of a slice from a DataFrame.\n",
      "Try using .loc[row_indexer,col_indexer] = value instead\n",
      "\n",
      "See the caveats in the documentation: http://pandas.pydata.org/pandas-docs/stable/indexing.html#indexing-view-versus-copy\n",
      "  \"\"\"Entry point for launching an IPython kernel.\n"
     ]
    }
   ],
   "source": [
    "stockdata['datadate'] = stockdata['datadate'].apply(lambda x:datetime.datetime.strptime(str(x),\"%Y%m%d\").strftime(\"%Y-%m-%d\"))"
   ]
  },
  {
   "cell_type": "code",
   "execution_count": 308,
   "metadata": {},
   "outputs": [],
   "source": [
    "stockdata = stockdata[['datadate','tic','adj_price']]\n",
    "stockdata.columns = [\"date\",\"ticker\",\"close_price\"]"
   ]
  },
  {
   "cell_type": "code",
   "execution_count": 309,
   "metadata": {},
   "outputs": [
    {
     "data": {
      "text/html": [
       "<div>\n",
       "<style scoped>\n",
       "    .dataframe tbody tr th:only-of-type {\n",
       "        vertical-align: middle;\n",
       "    }\n",
       "\n",
       "    .dataframe tbody tr th {\n",
       "        vertical-align: top;\n",
       "    }\n",
       "\n",
       "    .dataframe thead th {\n",
       "        text-align: right;\n",
       "    }\n",
       "</style>\n",
       "<table border=\"1\" class=\"dataframe\">\n",
       "  <thead>\n",
       "    <tr style=\"text-align: right;\">\n",
       "      <th></th>\n",
       "      <th>date</th>\n",
       "      <th>ticker</th>\n",
       "      <th>close_price</th>\n",
       "    </tr>\n",
       "  </thead>\n",
       "  <tbody>\n",
       "    <tr>\n",
       "      <th>0</th>\n",
       "      <td>2010-01-04</td>\n",
       "      <td>AVX</td>\n",
       "      <td>12.98</td>\n",
       "    </tr>\n",
       "    <tr>\n",
       "      <th>1</th>\n",
       "      <td>2010-01-05</td>\n",
       "      <td>AVX</td>\n",
       "      <td>12.79</td>\n",
       "    </tr>\n",
       "    <tr>\n",
       "      <th>2</th>\n",
       "      <td>2010-01-06</td>\n",
       "      <td>AVX</td>\n",
       "      <td>12.79</td>\n",
       "    </tr>\n",
       "    <tr>\n",
       "      <th>3</th>\n",
       "      <td>2010-01-07</td>\n",
       "      <td>AVX</td>\n",
       "      <td>12.90</td>\n",
       "    </tr>\n",
       "    <tr>\n",
       "      <th>4</th>\n",
       "      <td>2010-01-08</td>\n",
       "      <td>AVX</td>\n",
       "      <td>12.77</td>\n",
       "    </tr>\n",
       "  </tbody>\n",
       "</table>\n",
       "</div>"
      ],
      "text/plain": [
       "         date ticker  close_price\n",
       "0  2010-01-04    AVX        12.98\n",
       "1  2010-01-05    AVX        12.79\n",
       "2  2010-01-06    AVX        12.79\n",
       "3  2010-01-07    AVX        12.90\n",
       "4  2010-01-08    AVX        12.77"
      ]
     },
     "execution_count": 309,
     "metadata": {},
     "output_type": "execute_result"
    }
   ],
   "source": [
    "stockdata.head()"
   ]
  },
  {
   "cell_type": "code",
   "execution_count": 310,
   "metadata": {},
   "outputs": [],
   "source": [
    "stockdata = stockdata.set_index(\"date\")"
   ]
  },
  {
   "cell_type": "markdown",
   "metadata": {},
   "source": [
    "#### Use pivot_table map rows to dates, columns to tickers"
   ]
  },
  {
   "cell_type": "code",
   "execution_count": 311,
   "metadata": {},
   "outputs": [],
   "source": [
    "price_data = pd.pivot_table(stockdata,index=\"date\",values=\"close_price\",columns = \"ticker\")"
   ]
  },
  {
   "cell_type": "code",
   "execution_count": 47,
   "metadata": {},
   "outputs": [],
   "source": [
    "def export_to_excel(df,file_name):\n",
    "    writer = pd.ExcelWriter(file_name)\n",
    "    df.to_excel(writer,'Sheet1')\n",
    "    writer.save()"
   ]
  },
  {
   "cell_type": "code",
   "execution_count": 224,
   "metadata": {},
   "outputs": [],
   "source": [
    "#save DataFrame to excel file\n",
    "export_to_excel(price_data_clean,\"price_data_clean.xlsx\")"
   ]
  },
  {
   "cell_type": "code",
   "execution_count": 312,
   "metadata": {},
   "outputs": [
    {
     "data": {
      "text/html": [
       "<div>\n",
       "<style scoped>\n",
       "    .dataframe tbody tr th:only-of-type {\n",
       "        vertical-align: middle;\n",
       "    }\n",
       "\n",
       "    .dataframe tbody tr th {\n",
       "        vertical-align: top;\n",
       "    }\n",
       "\n",
       "    .dataframe thead th {\n",
       "        text-align: right;\n",
       "    }\n",
       "</style>\n",
       "<table border=\"1\" class=\"dataframe\">\n",
       "  <thead>\n",
       "    <tr style=\"text-align: right;\">\n",
       "      <th>ticker</th>\n",
       "      <th>0050B</th>\n",
       "      <th>AAOI</th>\n",
       "      <th>AAPL</th>\n",
       "      <th>ACIA</th>\n",
       "      <th>ACIW</th>\n",
       "      <th>ACLS</th>\n",
       "      <th>ACN</th>\n",
       "      <th>ADBE</th>\n",
       "      <th>ADI</th>\n",
       "      <th>ADP</th>\n",
       "      <th>...</th>\n",
       "      <th>WP</th>\n",
       "      <th>WU</th>\n",
       "      <th>XLNX</th>\n",
       "      <th>XOXO</th>\n",
       "      <th>XPER</th>\n",
       "      <th>XRX</th>\n",
       "      <th>YEXT</th>\n",
       "      <th>ZBRA</th>\n",
       "      <th>ZEN</th>\n",
       "      <th>ZS</th>\n",
       "    </tr>\n",
       "    <tr>\n",
       "      <th>date</th>\n",
       "      <th></th>\n",
       "      <th></th>\n",
       "      <th></th>\n",
       "      <th></th>\n",
       "      <th></th>\n",
       "      <th></th>\n",
       "      <th></th>\n",
       "      <th></th>\n",
       "      <th></th>\n",
       "      <th></th>\n",
       "      <th></th>\n",
       "      <th></th>\n",
       "      <th></th>\n",
       "      <th></th>\n",
       "      <th></th>\n",
       "      <th></th>\n",
       "      <th></th>\n",
       "      <th></th>\n",
       "      <th></th>\n",
       "      <th></th>\n",
       "      <th></th>\n",
       "    </tr>\n",
       "  </thead>\n",
       "  <tbody>\n",
       "    <tr>\n",
       "      <th>2010-01-04</th>\n",
       "      <td>NaN</td>\n",
       "      <td>NaN</td>\n",
       "      <td>30.572857</td>\n",
       "      <td>NaN</td>\n",
       "      <td>5.843333</td>\n",
       "      <td>5.80</td>\n",
       "      <td>42.07</td>\n",
       "      <td>37.09</td>\n",
       "      <td>31.67</td>\n",
       "      <td>42.83</td>\n",
       "      <td>...</td>\n",
       "      <td>NaN</td>\n",
       "      <td>19.09</td>\n",
       "      <td>25.38</td>\n",
       "      <td>10.38</td>\n",
       "      <td>23.81</td>\n",
       "      <td>34.52</td>\n",
       "      <td>NaN</td>\n",
       "      <td>28.67</td>\n",
       "      <td>NaN</td>\n",
       "      <td>NaN</td>\n",
       "    </tr>\n",
       "    <tr>\n",
       "      <th>2010-01-05</th>\n",
       "      <td>NaN</td>\n",
       "      <td>NaN</td>\n",
       "      <td>30.625714</td>\n",
       "      <td>NaN</td>\n",
       "      <td>5.700000</td>\n",
       "      <td>5.72</td>\n",
       "      <td>42.33</td>\n",
       "      <td>37.70</td>\n",
       "      <td>31.62</td>\n",
       "      <td>42.60</td>\n",
       "      <td>...</td>\n",
       "      <td>NaN</td>\n",
       "      <td>19.01</td>\n",
       "      <td>25.06</td>\n",
       "      <td>9.96</td>\n",
       "      <td>24.06</td>\n",
       "      <td>34.56</td>\n",
       "      <td>NaN</td>\n",
       "      <td>28.62</td>\n",
       "      <td>NaN</td>\n",
       "      <td>NaN</td>\n",
       "    </tr>\n",
       "    <tr>\n",
       "      <th>2010-01-06</th>\n",
       "      <td>NaN</td>\n",
       "      <td>NaN</td>\n",
       "      <td>30.138571</td>\n",
       "      <td>NaN</td>\n",
       "      <td>5.530000</td>\n",
       "      <td>6.04</td>\n",
       "      <td>42.78</td>\n",
       "      <td>37.62</td>\n",
       "      <td>31.56</td>\n",
       "      <td>42.50</td>\n",
       "      <td>...</td>\n",
       "      <td>NaN</td>\n",
       "      <td>19.00</td>\n",
       "      <td>24.89</td>\n",
       "      <td>9.90</td>\n",
       "      <td>23.39</td>\n",
       "      <td>34.24</td>\n",
       "      <td>NaN</td>\n",
       "      <td>28.40</td>\n",
       "      <td>NaN</td>\n",
       "      <td>NaN</td>\n",
       "    </tr>\n",
       "    <tr>\n",
       "      <th>2010-01-07</th>\n",
       "      <td>NaN</td>\n",
       "      <td>NaN</td>\n",
       "      <td>30.082857</td>\n",
       "      <td>NaN</td>\n",
       "      <td>5.453333</td>\n",
       "      <td>6.08</td>\n",
       "      <td>42.74</td>\n",
       "      <td>36.89</td>\n",
       "      <td>31.31</td>\n",
       "      <td>42.48</td>\n",
       "      <td>...</td>\n",
       "      <td>NaN</td>\n",
       "      <td>19.61</td>\n",
       "      <td>24.64</td>\n",
       "      <td>9.94</td>\n",
       "      <td>20.02</td>\n",
       "      <td>34.40</td>\n",
       "      <td>NaN</td>\n",
       "      <td>27.69</td>\n",
       "      <td>NaN</td>\n",
       "      <td>NaN</td>\n",
       "    </tr>\n",
       "    <tr>\n",
       "      <th>2010-01-08</th>\n",
       "      <td>NaN</td>\n",
       "      <td>NaN</td>\n",
       "      <td>30.282857</td>\n",
       "      <td>NaN</td>\n",
       "      <td>5.476667</td>\n",
       "      <td>6.52</td>\n",
       "      <td>42.57</td>\n",
       "      <td>36.69</td>\n",
       "      <td>31.49</td>\n",
       "      <td>42.42</td>\n",
       "      <td>...</td>\n",
       "      <td>NaN</td>\n",
       "      <td>19.80</td>\n",
       "      <td>25.00</td>\n",
       "      <td>9.83</td>\n",
       "      <td>20.29</td>\n",
       "      <td>34.28</td>\n",
       "      <td>NaN</td>\n",
       "      <td>27.60</td>\n",
       "      <td>NaN</td>\n",
       "      <td>NaN</td>\n",
       "    </tr>\n",
       "  </tbody>\n",
       "</table>\n",
       "<p>5 rows × 356 columns</p>\n",
       "</div>"
      ],
      "text/plain": [
       "ticker      0050B  AAOI       AAPL  ACIA      ACIW  ACLS    ACN   ADBE    ADI  \\\n",
       "date                                                                            \n",
       "2010-01-04    NaN   NaN  30.572857   NaN  5.843333  5.80  42.07  37.09  31.67   \n",
       "2010-01-05    NaN   NaN  30.625714   NaN  5.700000  5.72  42.33  37.70  31.62   \n",
       "2010-01-06    NaN   NaN  30.138571   NaN  5.530000  6.04  42.78  37.62  31.56   \n",
       "2010-01-07    NaN   NaN  30.082857   NaN  5.453333  6.08  42.74  36.89  31.31   \n",
       "2010-01-08    NaN   NaN  30.282857   NaN  5.476667  6.52  42.57  36.69  31.49   \n",
       "\n",
       "ticker        ADP ...  WP     WU   XLNX   XOXO   XPER    XRX  YEXT   ZBRA  \\\n",
       "date              ...                                                       \n",
       "2010-01-04  42.83 ... NaN  19.09  25.38  10.38  23.81  34.52   NaN  28.67   \n",
       "2010-01-05  42.60 ... NaN  19.01  25.06   9.96  24.06  34.56   NaN  28.62   \n",
       "2010-01-06  42.50 ... NaN  19.00  24.89   9.90  23.39  34.24   NaN  28.40   \n",
       "2010-01-07  42.48 ... NaN  19.61  24.64   9.94  20.02  34.40   NaN  27.69   \n",
       "2010-01-08  42.42 ... NaN  19.80  25.00   9.83  20.29  34.28   NaN  27.60   \n",
       "\n",
       "ticker      ZEN  ZS  \n",
       "date                 \n",
       "2010-01-04  NaN NaN  \n",
       "2010-01-05  NaN NaN  \n",
       "2010-01-06  NaN NaN  \n",
       "2010-01-07  NaN NaN  \n",
       "2010-01-08  NaN NaN  \n",
       "\n",
       "[5 rows x 356 columns]"
      ]
     },
     "execution_count": 312,
     "metadata": {},
     "output_type": "execute_result"
    }
   ],
   "source": [
    "price_data.head()"
   ]
  },
  {
   "cell_type": "code",
   "execution_count": 313,
   "metadata": {},
   "outputs": [
    {
     "data": {
      "text/plain": [
       "(2314, 356)"
      ]
     },
     "execution_count": 313,
     "metadata": {},
     "output_type": "execute_result"
    }
   ],
   "source": [
    "price_data.shape"
   ]
  },
  {
   "cell_type": "markdown",
   "metadata": {},
   "source": [
    "#### Select a Date Range"
   ]
  },
  {
   "cell_type": "code",
   "execution_count": 316,
   "metadata": {},
   "outputs": [],
   "source": [
    "price_data_cut=price_data[(price_data.index>'2012-01-01') & (price_data.index<'2018-12-01')]"
   ]
  },
  {
   "cell_type": "code",
   "execution_count": 317,
   "metadata": {},
   "outputs": [
    {
     "data": {
      "text/plain": [
       "(1772, 356)"
      ]
     },
     "execution_count": 317,
     "metadata": {},
     "output_type": "execute_result"
    }
   ],
   "source": [
    "price_data_cut.shape"
   ]
  },
  {
   "cell_type": "markdown",
   "metadata": {},
   "source": [
    "#### Clean Data base on columns missing percentage"
   ]
  },
  {
   "cell_type": "code",
   "execution_count": 319,
   "metadata": {},
   "outputs": [],
   "source": [
    "## clean data base on columns or rows\n",
    "\n",
    "def clean_data_columns_rows(df,r_or_c):\n",
    "    missing_percentage = []\n",
    "    if r_or_c == 'c':\n",
    "        for i in range(df.shape[1]):\n",
    "            missing_percentage.append(df.iloc[:,i].isna().sum()/df.shape[0])\n",
    "    if r_or_c =='r':\n",
    "        for i in range(df.shape[0]):\n",
    "            missing_percentage.append(df.iloc[i,:].isna().sum()/df.shape[1])\n",
    "    return missing_percentage"
   ]
  },
  {
   "cell_type": "code",
   "execution_count": 320,
   "metadata": {},
   "outputs": [],
   "source": [
    "missing_percentage_columns=clean_data_columns_rows(price_data_cut,'c')"
   ]
  },
  {
   "cell_type": "code",
   "execution_count": 321,
   "metadata": {},
   "outputs": [
    {
     "data": {
      "text/plain": [
       "356"
      ]
     },
     "execution_count": 321,
     "metadata": {},
     "output_type": "execute_result"
    }
   ],
   "source": [
    "len(missing_percentage_columns)"
   ]
  },
  {
   "cell_type": "code",
   "execution_count": 322,
   "metadata": {},
   "outputs": [],
   "source": [
    "missing_percentage_rows=clean_data_columns_rows(price_data_cut,'r')"
   ]
  },
  {
   "cell_type": "code",
   "execution_count": 323,
   "metadata": {},
   "outputs": [
    {
     "data": {
      "text/plain": [
       "1772"
      ]
     },
     "execution_count": 323,
     "metadata": {},
     "output_type": "execute_result"
    }
   ],
   "source": [
    "len(missing_percentage_rows)"
   ]
  },
  {
   "cell_type": "code",
   "execution_count": 324,
   "metadata": {},
   "outputs": [],
   "source": [
    "certieria_columns=[n <0.1 for n in missing_percentage_columns]"
   ]
  },
  {
   "cell_type": "code",
   "execution_count": 325,
   "metadata": {},
   "outputs": [
    {
     "data": {
      "text/plain": [
       "251"
      ]
     },
     "execution_count": 325,
     "metadata": {},
     "output_type": "execute_result"
    }
   ],
   "source": [
    "sum(certieria_columns)"
   ]
  },
  {
   "cell_type": "markdown",
   "metadata": {},
   "source": [
    "#### Select column using Boolean"
   ]
  },
  {
   "cell_type": "code",
   "execution_count": 326,
   "metadata": {},
   "outputs": [],
   "source": [
    "price_data_clean=price_data_cut.values[:,certieria_columns]"
   ]
  },
  {
   "cell_type": "code",
   "execution_count": 327,
   "metadata": {},
   "outputs": [],
   "source": [
    "price_data_clean=pd.DataFrame(price_data_clean)"
   ]
  },
  {
   "cell_type": "code",
   "execution_count": 328,
   "metadata": {},
   "outputs": [],
   "source": [
    "price_data_clean.columns=price_data_cut.columns.values[certieria_columns]"
   ]
  },
  {
   "cell_type": "code",
   "execution_count": 329,
   "metadata": {},
   "outputs": [],
   "source": [
    "price_data_clean.index=price_data_cut.index"
   ]
  },
  {
   "cell_type": "code",
   "execution_count": 330,
   "metadata": {},
   "outputs": [
    {
     "data": {
      "text/plain": [
       "(1772, 251)"
      ]
     },
     "execution_count": 330,
     "metadata": {},
     "output_type": "execute_result"
    }
   ],
   "source": [
    "price_data_clean.shape"
   ]
  },
  {
   "cell_type": "code",
   "execution_count": 331,
   "metadata": {},
   "outputs": [],
   "source": [
    "price_data_clean=price_data_clean.dropna(thresh=251)"
   ]
  },
  {
   "cell_type": "code",
   "execution_count": 332,
   "metadata": {},
   "outputs": [
    {
     "data": {
      "text/plain": [
       "(1570, 251)"
      ]
     },
     "execution_count": 332,
     "metadata": {},
     "output_type": "execute_result"
    }
   ],
   "source": [
    "price_data_clean.shape"
   ]
  },
  {
   "cell_type": "code",
   "execution_count": 334,
   "metadata": {},
   "outputs": [
    {
     "data": {
      "text/plain": [
       "0"
      ]
     },
     "execution_count": 334,
     "metadata": {},
     "output_type": "execute_result"
    }
   ],
   "source": [
    "#check total missing data\n",
    "sum(price_data_clean.isna().sum()>0)"
   ]
  },
  {
   "cell_type": "code",
   "execution_count": null,
   "metadata": {},
   "outputs": [],
   "source": []
  },
  {
   "cell_type": "code",
   "execution_count": null,
   "metadata": {},
   "outputs": [],
   "source": []
  },
  {
   "cell_type": "code",
   "execution_count": null,
   "metadata": {},
   "outputs": [],
   "source": []
  },
  {
   "cell_type": "code",
   "execution_count": 238,
   "metadata": {},
   "outputs": [],
   "source": [
    "#calculate return\n",
    "DailyReturn=(price_data_clean-price_data_clean.shift(1))/price_data_clean.shift(1)  * 100\n",
    "DailyReturn=DailyReturn.drop(DailyReturn.index[0])"
   ]
  },
  {
   "cell_type": "code",
   "execution_count": 239,
   "metadata": {},
   "outputs": [],
   "source": [
    "DailyReturn.index = DailyReturn.index.astype(\"datetime64\")"
   ]
  },
  {
   "cell_type": "markdown",
   "metadata": {},
   "source": [
    "### 1.2 Benchmark: Vanguard Information Technology ETF"
   ]
  },
  {
   "cell_type": "code",
   "execution_count": 281,
   "metadata": {},
   "outputs": [
    {
     "data": {
      "image/png": "[encoded data removed]",
      "text/plain": [
       "<Figure size 720x360 with 1 Axes>"
      ]
     },
     "metadata": {},
     "output_type": "display_data"
    }
   ],
   "source": [
    "VGT = pd.read_csv(\"VGT.csv\")\n",
    "VGT['Adj Close'].plot(figsize=(10,5)).set_title(\"Vanguard Information Technology ETF\")\n",
    "plt.show()\n",
    "#NDX return\n",
    "VGTreturn=(VGT['Adj Close']-VGT['Adj Close'].shift(1))/VGT['Adj Close'].shift(1)  * 100\n",
    "VGTreturn= VGTreturn.drop(VGTreturn.index[0])"
   ]
  },
  {
   "cell_type": "code",
   "execution_count": 293,
   "metadata": {},
   "outputs": [],
   "source": [
    "VGTreturn.index=VGT.Date[1:]"
   ]
  },
  {
   "cell_type": "markdown",
   "metadata": {},
   "source": [
    "## 2. Risk based Smart beta strategies\n",
    "\n",
    "The \"Nasdaq 100 index\" is based on <b>market capitalization weighted</b>.<br>\n",
    "\n",
    "There are some advantages of the market-cap indexation. Basically, market capitalization is a convenient and clear way to participate to the equity market, and the corresponding index has a lower turnover as well as transaction costs.<br>\n",
    "\n",
    "The disadvantages are also very obvious, such as lack of risk diversification and growth bias as high valuation stocks might weight more than low valuation stocks. And it is a concentrated portfolios, as the top 10 market caps of the Nasdaq 100 account for around 50%.<br>\n",
    "\n",
    "I used three different methods to generate weightings according to two cons of the \"market capitalization weighted\" index:<br> \n",
    "<b>1.\"concentrated problem\"</b>: Equally Weighted<br>\n",
    "<b>2.\"less risk diversification</b>: Minimum Variance and Equal Risk Contribution (ERC)."
   ]
  },
  {
   "cell_type": "code",
   "execution_count": 240,
   "metadata": {},
   "outputs": [],
   "source": [
    "from numpy.linalg import inv,pinv\n",
    "from scipy.optimize import minimize\n",
    "from dateutil.relativedelta import relativedelta\n",
    "import datetime\n",
    "import pyfolio as pf"
   ]
  },
  {
   "cell_type": "code",
   "execution_count": 241,
   "metadata": {},
   "outputs": [],
   "source": [
    "# Weight review datetime - Quarterly review\n",
    "firstDay = DailyReturn.index[0]\n",
    "LastDay = DailyReturn.index[-1]\n",
    "reviewDate = [datetime.date(firstDay.year, firstDay.month, 1).strftime('%Y-%m-%d')]\n",
    "\n",
    "while firstDay <= LastDay:\n",
    "    firstDay += relativedelta(months=3)\n",
    "    reviewDate.append(datetime.date(firstDay.year, firstDay.month, 1).strftime('%Y-%m-%d'))\n",
    "    reviewDate.append(datetime.date(firstDay.year, firstDay.month, 2).strftime('%Y-%m-%d'))\n",
    "reviewDate=reviewDate[0:-1]"
   ]
  },
  {
   "cell_type": "code",
   "execution_count": 242,
   "metadata": {},
   "outputs": [
    {
     "data": {
      "text/plain": [
       "(1569, 251)"
      ]
     },
     "execution_count": 242,
     "metadata": {},
     "output_type": "execute_result"
    }
   ],
   "source": [
    "DailyReturn.shape"
   ]
  },
  {
   "cell_type": "markdown",
   "metadata": {},
   "source": [
    "### 2.1 Equally Weight - Comparasion"
   ]
  },
  {
   "cell_type": "code",
   "execution_count": 262,
   "metadata": {},
   "outputs": [],
   "source": [
    "def Equally_weight(Cov,numStock):\n",
    "    return [1/numStock]*numStock"
   ]
  },
  {
   "cell_type": "markdown",
   "metadata": {},
   "source": [
    "### 2.2 Minimum Variance"
   ]
  },
  {
   "cell_type": "code",
   "execution_count": 263,
   "metadata": {},
   "outputs": [],
   "source": [
    "def Minimum_variance_weight(Cov,numStock):\n",
    "    \n",
    "    def portfolio_variance(w,Cov):\n",
    "        # calculate the risk of the portfolio\n",
    "        # w - Weight\n",
    "        # Cov - covariance matrix\n",
    "        w = np.matrix(w)\n",
    "        Cov = np.matrix(Cov)\n",
    "        return (w*Cov*w.T)[0,0]\n",
    "    \n",
    "    # No unconstrained conditions\n",
    "    constraints = ({'type': 'eq', 'fun': lambda x:  np.sum(x)-1.0})\n",
    "    w0 = [1/numStock]*numStock\n",
    "    \n",
    "    res= minimize(portfolio_variance, w0, args=Cov, method='SLSQP',constraints=constraints,options={'disp': False})\n",
    "    return list(res.x)"
   ]
  },
  {
   "cell_type": "markdown",
   "metadata": {},
   "source": [
    "### 2.3 Equal Risk Contribution (ERC)"
   ]
  },
  {
   "cell_type": "code",
   "execution_count": 264,
   "metadata": {},
   "outputs": [],
   "source": [
    "def Equal_risk_contribution_weight(Cov,numStock):\n",
    "\n",
    "    def portfolio_variance(w,Cov):\n",
    "        # calculate the risk of the portfolio\n",
    "        # w - Weight\n",
    "        # Cov - covariance matrix\n",
    "        w = np.matrix(w)\n",
    "        Cov = np.matrix(Cov)\n",
    "        return (w*Cov*w.T)[0,0]\n",
    "\n",
    "\n",
    "    def risk_contribution(w,Cov):\n",
    "        # calculate each asset's contribution to the total risk\n",
    "        w = np.matrix(w)\n",
    "        Cov = np.matrix(Cov)\n",
    "        sigma = np.sqrt(portfolio_variance(w,Cov))\n",
    "\n",
    "        # Marginal risk Contribution\n",
    "        MarginalRiskContribution = Cov*w.T\n",
    "\n",
    "        # Risk Contribution\n",
    "        RiskContribution = np.multiply(MarginalRiskContribution,w.T)/sigma\n",
    "        return RiskContribution\n",
    "\n",
    "\n",
    "    def obj_risk_budget(x,pars):\n",
    "        # calculate the portfolio risk\n",
    "        Cov = pars[0] # covariance table\n",
    "        x_t = pars[1] # risk target in percent of portfolio risk\n",
    "        sig_p =  np.sqrt(portfolio_variance(x,Cov)) # portfolio sigma\n",
    "        risk_target = np.asmatrix(np.multiply(sig_p,x_t))\n",
    "        asset_RiskContribution = risk_contribution(x,Cov)\n",
    "        J = sum(np.square(asset_RiskContribution-risk_target.T))[0,0] # sum of squared error\n",
    "        return J\n",
    "\n",
    "    def total_weight_constraint(x):\n",
    "        return np.sum(x)-1.0\n",
    "\n",
    "    def long_only_constraint(x):\n",
    "        return x\n",
    "\n",
    "    x_t = [1/numStock]*numStock  #equal risk, initial weights\n",
    "    w0 = [1/numStock]*numStock\n",
    "\n",
    "    constraints = ({'type': 'eq', 'fun': total_weight_constraint}, {'type': 'ineq', 'fun': long_only_constraint})\n",
    "    res= minimize(obj_risk_budget, w0, args=[Cov,x_t], method='SLSQP',constraints=constraints, options={'disp': False})\n",
    "    \n",
    "    return list(res.x)"
   ]
  },
  {
   "cell_type": "markdown",
   "metadata": {},
   "source": [
    "### 2.4 Backtest\n",
    "<b>Pyfolio</b> is used to perform the performance analysis and risk analysis of the back testing.\n",
    "\n",
    "Weightings will be adjusted every quarter using based on the covariance matrix of last quarter."
   ]
  },
  {
   "cell_type": "code",
   "execution_count": 265,
   "metadata": {},
   "outputs": [],
   "source": [
    "def Generate_returns(DailyReturn,reviewDate,weightfunction):\n",
    "    SmartBetaReturn = pd.Series()\n",
    "    numStock = DailyReturn.shape[1]\n",
    "    i=0\n",
    "    for j in range(0,int(len(reviewDate)/2)-1):\n",
    "        Cov = DailyReturn.truncate(before=reviewDate[i],after=reviewDate[i+1]).cov()\n",
    "        returntemp = DailyReturn.truncate(before=reviewDate[i+2],after=reviewDate[i+3])\n",
    "        SmartBetaReturn=SmartBetaReturn.append(pd.Series((weightfunction(Cov,numStock)*np.asmatrix(returntemp).T).tolist()[0],index=returntemp.index,name=\"Return\"))\n",
    "        i=i+2\n",
    "    return SmartBetaReturn\n",
    "\n",
    "def pyfolio_analyze(portfolioReturn,BenchmarkReturn):\n",
    "    backtest_result=pf.create_returns_tear_sheet(returns=portfolioReturn/100,benchmark_rets=BenchmarkReturn/100,)"
   ]
  },
  {
   "cell_type": "code",
   "execution_count": 274,
   "metadata": {},
   "outputs": [],
   "source": [
    "# NA and time period\n",
    "DailyReturn = DailyReturn.truncate(before=\"2014\")"
   ]
  },
  {
   "cell_type": "code",
   "execution_count": 275,
   "metadata": {},
   "outputs": [
    {
     "data": {
      "text/plain": [
       "(1214, 251)"
      ]
     },
     "execution_count": 275,
     "metadata": {},
     "output_type": "execute_result"
    }
   ],
   "source": [
    "DailyReturn.shape"
   ]
  },
  {
   "cell_type": "code",
   "execution_count": 276,
   "metadata": {},
   "outputs": [
    {
     "name": "stderr",
     "output_type": "stream",
     "text": [
      "D:\\Anaconda3\\lib\\site-packages\\numpy\\lib\\function_base.py:1128: RuntimeWarning: Mean of empty slice.\n",
      "  avg = a.mean(axis)\n",
      "D:\\Anaconda3\\lib\\site-packages\\numpy\\core\\_methods.py:73: RuntimeWarning: invalid value encountered in true_divide\n",
      "  ret, rcount, out=ret, casting='unsafe', subok=False)\n",
      "D:\\Anaconda3\\lib\\site-packages\\pandas\\core\\frame.py:6631: RuntimeWarning: Degrees of freedom <= 0 for slice\n",
      "  baseCov = np.cov(mat.T)\n",
      "D:\\Anaconda3\\lib\\site-packages\\numpy\\lib\\function_base.py:3109: RuntimeWarning: divide by zero encountered in double_scalars\n",
      "  c *= 1. / np.float64(fact)\n",
      "D:\\Anaconda3\\lib\\site-packages\\numpy\\lib\\function_base.py:3109: RuntimeWarning: invalid value encountered in multiply\n",
      "  c *= 1. / np.float64(fact)\n"
     ]
    }
   ],
   "source": [
    "returns1 = Generate_returns(DailyReturn.fillna(0),reviewDate,Equally_weight)\n"
   ]
  },
  {
   "cell_type": "code",
   "execution_count": 277,
   "metadata": {},
   "outputs": [
    {
     "name": "stderr",
     "output_type": "stream",
     "text": [
      "D:\\Anaconda3\\lib\\site-packages\\numpy\\lib\\function_base.py:1128: RuntimeWarning: Mean of empty slice.\n",
      "  avg = a.mean(axis)\n",
      "D:\\Anaconda3\\lib\\site-packages\\numpy\\core\\_methods.py:73: RuntimeWarning: invalid value encountered in true_divide\n",
      "  ret, rcount, out=ret, casting='unsafe', subok=False)\n",
      "D:\\Anaconda3\\lib\\site-packages\\pandas\\core\\frame.py:6631: RuntimeWarning: Degrees of freedom <= 0 for slice\n",
      "  baseCov = np.cov(mat.T)\n",
      "D:\\Anaconda3\\lib\\site-packages\\numpy\\lib\\function_base.py:3109: RuntimeWarning: divide by zero encountered in double_scalars\n",
      "  c *= 1. / np.float64(fact)\n",
      "D:\\Anaconda3\\lib\\site-packages\\numpy\\lib\\function_base.py:3109: RuntimeWarning: invalid value encountered in multiply\n",
      "  c *= 1. / np.float64(fact)\n"
     ]
    }
   ],
   "source": [
    "returns1 = Generate_returns(DailyReturn.fillna(0),reviewDate,Equally_weight)\n",
    "returns2 = Generate_returns(DailyReturn.fillna(0),reviewDate,Minimum_variance_weight)\n",
    "returns3 = Generate_returns(DailyReturn.fillna(0),reviewDate,Equal_risk_contribution_weight)"
   ]
  },
  {
   "cell_type": "code",
   "execution_count": 295,
   "metadata": {},
   "outputs": [],
   "source": [
    "allreturns=pd.DataFrame(pf.ep.cum_returns(returns=returns1/100),columns=['Equally_weight'])\n",
    "allreturns['Minimum_variance_weight']=pf.ep.cum_returns(returns=returns2/100)\n",
    "allreturns['Equal_risk_contribution_weight']=pf.ep.cum_returns(returns=returns3/100)\n",
    "allreturns['VGT']=pf.ep.cum_returns(returns=VGTreturn/100)"
   ]
  },
  {
   "cell_type": "code",
   "execution_count": 299,
   "metadata": {},
   "outputs": [
    {
     "data": {
      "text/html": [
       "<div>\n",
       "<style scoped>\n",
       "    .dataframe tbody tr th:only-of-type {\n",
       "        vertical-align: middle;\n",
       "    }\n",
       "\n",
       "    .dataframe tbody tr th {\n",
       "        vertical-align: top;\n",
       "    }\n",
       "\n",
       "    .dataframe thead th {\n",
       "        text-align: right;\n",
       "    }\n",
       "</style>\n",
       "<table border=\"1\" class=\"dataframe\">\n",
       "  <thead>\n",
       "    <tr style=\"text-align: right;\">\n",
       "      <th></th>\n",
       "      <th>Equally_weight</th>\n",
       "      <th>Minimum_variance_weight</th>\n",
       "      <th>Equal_risk_contribution_weight</th>\n",
       "      <th>VGT</th>\n",
       "    </tr>\n",
       "  </thead>\n",
       "  <tbody>\n",
       "    <tr>\n",
       "      <th>2014-01-02</th>\n",
       "      <td>-0.013345</td>\n",
       "      <td>0.0</td>\n",
       "      <td>0.0</td>\n",
       "      <td>NaN</td>\n",
       "    </tr>\n",
       "    <tr>\n",
       "      <th>2014-01-03</th>\n",
       "      <td>-0.008841</td>\n",
       "      <td>0.0</td>\n",
       "      <td>0.0</td>\n",
       "      <td>NaN</td>\n",
       "    </tr>\n",
       "    <tr>\n",
       "      <th>2014-01-06</th>\n",
       "      <td>-0.014647</td>\n",
       "      <td>0.0</td>\n",
       "      <td>0.0</td>\n",
       "      <td>NaN</td>\n",
       "    </tr>\n",
       "    <tr>\n",
       "      <th>2014-01-07</th>\n",
       "      <td>-0.002451</td>\n",
       "      <td>0.0</td>\n",
       "      <td>0.0</td>\n",
       "      <td>NaN</td>\n",
       "    </tr>\n",
       "    <tr>\n",
       "      <th>2014-01-08</th>\n",
       "      <td>0.001833</td>\n",
       "      <td>0.0</td>\n",
       "      <td>0.0</td>\n",
       "      <td>NaN</td>\n",
       "    </tr>\n",
       "  </tbody>\n",
       "</table>\n",
       "</div>"
      ],
      "text/plain": [
       "            Equally_weight  Minimum_variance_weight  \\\n",
       "2014-01-02       -0.013345                      0.0   \n",
       "2014-01-03       -0.008841                      0.0   \n",
       "2014-01-06       -0.014647                      0.0   \n",
       "2014-01-07       -0.002451                      0.0   \n",
       "2014-01-08        0.001833                      0.0   \n",
       "\n",
       "            Equal_risk_contribution_weight  VGT  \n",
       "2014-01-02                             0.0  NaN  \n",
       "2014-01-03                             0.0  NaN  \n",
       "2014-01-06                             0.0  NaN  \n",
       "2014-01-07                             0.0  NaN  \n",
       "2014-01-08                             0.0  NaN  "
      ]
     },
     "execution_count": 299,
     "metadata": {},
     "output_type": "execute_result"
    }
   ],
   "source": [
    "allreturns.head()"
   ]
  },
  {
   "cell_type": "markdown",
   "metadata": {},
   "source": [
    "### 2.5 Results\n",
    "\n",
    "As the cumulative return chart shows, all three smart beta strategies outperformed the benchmark index a lot. The <b>Equal Risk Contribution strategy</b> has the highest Sharpe Ratio and relatively stable performance, so I think it might be the best among all three \"smart beta\" strategies.\n"
   ]
  },
  {
   "cell_type": "code",
   "execution_count": 297,
   "metadata": {
    "scrolled": false
   },
   "outputs": [
    {
     "data": {
      "image/png": "[encoded data removed]",
      "text/plain": [
       "<Figure size 1080x432 with 1 Axes>"
      ]
     },
     "metadata": {},
     "output_type": "display_data"
    }
   ],
   "source": [
    "allreturns.plot(figsize=(15,6)).set_title(\"Smart beta Strategies\")\n",
    "plt.show()"
   ]
  },
  {
   "cell_type": "markdown",
   "metadata": {},
   "source": [
    "<b>Equal Risk Contribution (ERC) strategy - Performance & risk analysis</b>"
   ]
  },
  {
   "cell_type": "code",
   "execution_count": 300,
   "metadata": {
    "scrolled": false
   },
   "outputs": [
    {
     "ename": "TypeError",
     "evalue": "Cannot compare type 'Timestamp' with type 'str'",
     "output_type": "error",
     "traceback": [
      "\u001b[1;31m---------------------------------------------------------------------------\u001b[0m",
      "\u001b[1;31mTypeError\u001b[0m                                 Traceback (most recent call last)",
      "\u001b[1;32m<ipython-input-300-1bd12dbf36c6>\u001b[0m in \u001b[0;36m<module>\u001b[1;34m()\u001b[0m\n\u001b[1;32m----> 1\u001b[1;33m \u001b[0mpyfolio_analyze\u001b[0m\u001b[1;33m(\u001b[0m\u001b[0mreturns3\u001b[0m\u001b[1;33m.\u001b[0m\u001b[0mrename\u001b[0m\u001b[1;33m(\u001b[0m\u001b[1;34m'Equal_Risk_Contribution_weight'\u001b[0m\u001b[1;33m)\u001b[0m\u001b[1;33m,\u001b[0m\u001b[0mVGTreturn\u001b[0m\u001b[1;33m.\u001b[0m\u001b[0mrename\u001b[0m\u001b[1;33m(\u001b[0m\u001b[1;34m'Nasdaq100'\u001b[0m\u001b[1;33m)\u001b[0m\u001b[1;33m)\u001b[0m\u001b[1;33m\u001b[0m\u001b[0m\n\u001b[0m",
      "\u001b[1;32m<ipython-input-265-382b3843a5db>\u001b[0m in \u001b[0;36mpyfolio_analyze\u001b[1;34m(portfolioReturn, BenchmarkReturn)\u001b[0m\n\u001b[0;32m     11\u001b[0m \u001b[1;33m\u001b[0m\u001b[0m\n\u001b[0;32m     12\u001b[0m \u001b[1;32mdef\u001b[0m \u001b[0mpyfolio_analyze\u001b[0m\u001b[1;33m(\u001b[0m\u001b[0mportfolioReturn\u001b[0m\u001b[1;33m,\u001b[0m\u001b[0mBenchmarkReturn\u001b[0m\u001b[1;33m)\u001b[0m\u001b[1;33m:\u001b[0m\u001b[1;33m\u001b[0m\u001b[0m\n\u001b[1;32m---> 13\u001b[1;33m     \u001b[0mbacktest_result\u001b[0m\u001b[1;33m=\u001b[0m\u001b[0mpf\u001b[0m\u001b[1;33m.\u001b[0m\u001b[0mcreate_returns_tear_sheet\u001b[0m\u001b[1;33m(\u001b[0m\u001b[0mreturns\u001b[0m\u001b[1;33m=\u001b[0m\u001b[0mportfolioReturn\u001b[0m\u001b[1;33m/\u001b[0m\u001b[1;36m100\u001b[0m\u001b[1;33m,\u001b[0m\u001b[0mbenchmark_rets\u001b[0m\u001b[1;33m=\u001b[0m\u001b[0mBenchmarkReturn\u001b[0m\u001b[1;33m/\u001b[0m\u001b[1;36m100\u001b[0m\u001b[1;33m,\u001b[0m\u001b[1;33m)\u001b[0m\u001b[1;33m\u001b[0m\u001b[0m\n\u001b[0m",
      "\u001b[1;32mD:\\Anaconda3\\lib\\site-packages\\pyfolio\\plotting.py\u001b[0m in \u001b[0;36mcall_w_context\u001b[1;34m(*args, **kwargs)\u001b[0m\n\u001b[0;32m     50\u001b[0m         \u001b[1;32mif\u001b[0m \u001b[0mset_context\u001b[0m\u001b[1;33m:\u001b[0m\u001b[1;33m\u001b[0m\u001b[0m\n\u001b[0;32m     51\u001b[0m             \u001b[1;32mwith\u001b[0m \u001b[0mplotting_context\u001b[0m\u001b[1;33m(\u001b[0m\u001b[1;33m)\u001b[0m\u001b[1;33m,\u001b[0m \u001b[0maxes_style\u001b[0m\u001b[1;33m(\u001b[0m\u001b[1;33m)\u001b[0m\u001b[1;33m:\u001b[0m\u001b[1;33m\u001b[0m\u001b[0m\n\u001b[1;32m---> 52\u001b[1;33m                 \u001b[1;32mreturn\u001b[0m \u001b[0mfunc\u001b[0m\u001b[1;33m(\u001b[0m\u001b[1;33m*\u001b[0m\u001b[0margs\u001b[0m\u001b[1;33m,\u001b[0m \u001b[1;33m**\u001b[0m\u001b[0mkwargs\u001b[0m\u001b[1;33m)\u001b[0m\u001b[1;33m\u001b[0m\u001b[0m\n\u001b[0m\u001b[0;32m     53\u001b[0m         \u001b[1;32melse\u001b[0m\u001b[1;33m:\u001b[0m\u001b[1;33m\u001b[0m\u001b[0m\n\u001b[0;32m     54\u001b[0m             \u001b[1;32mreturn\u001b[0m \u001b[0mfunc\u001b[0m\u001b[1;33m(\u001b[0m\u001b[1;33m*\u001b[0m\u001b[0margs\u001b[0m\u001b[1;33m,\u001b[0m \u001b[1;33m**\u001b[0m\u001b[0mkwargs\u001b[0m\u001b[1;33m)\u001b[0m\u001b[1;33m\u001b[0m\u001b[0m\n",
      "\u001b[1;32mD:\\Anaconda3\\lib\\site-packages\\pyfolio\\tears.py\u001b[0m in \u001b[0;36mcreate_returns_tear_sheet\u001b[1;34m(returns, positions, transactions, live_start_date, cone_std, benchmark_rets, bootstrap, turnover_denom, header_rows, return_fig)\u001b[0m\n\u001b[0;32m    516\u001b[0m \u001b[1;33m\u001b[0m\u001b[0m\n\u001b[0;32m    517\u001b[0m     \u001b[1;32mif\u001b[0m \u001b[0mbenchmark_rets\u001b[0m \u001b[1;32mis\u001b[0m \u001b[1;32mnot\u001b[0m \u001b[1;32mNone\u001b[0m\u001b[1;33m:\u001b[0m\u001b[1;33m\u001b[0m\u001b[0m\n\u001b[1;32m--> 518\u001b[1;33m         \u001b[0mreturns\u001b[0m \u001b[1;33m=\u001b[0m \u001b[0mutils\u001b[0m\u001b[1;33m.\u001b[0m\u001b[0mclip_returns_to_benchmark\u001b[0m\u001b[1;33m(\u001b[0m\u001b[0mreturns\u001b[0m\u001b[1;33m,\u001b[0m \u001b[0mbenchmark_rets\u001b[0m\u001b[1;33m)\u001b[0m\u001b[1;33m\u001b[0m\u001b[0m\n\u001b[0m\u001b[0;32m    519\u001b[0m \u001b[1;33m\u001b[0m\u001b[0m\n\u001b[0;32m    520\u001b[0m     plotting.show_perf_stats(returns, benchmark_rets,\n",
      "\u001b[1;32mD:\\Anaconda3\\lib\\site-packages\\pyfolio\\utils.py\u001b[0m in \u001b[0;36mclip_returns_to_benchmark\u001b[1;34m(rets, benchmark_rets)\u001b[0m\n\u001b[0;32m    402\u001b[0m     \"\"\"\n\u001b[0;32m    403\u001b[0m \u001b[1;33m\u001b[0m\u001b[0m\n\u001b[1;32m--> 404\u001b[1;33m     \u001b[1;32mif\u001b[0m \u001b[1;33m(\u001b[0m\u001b[0mrets\u001b[0m\u001b[1;33m.\u001b[0m\u001b[0mindex\u001b[0m\u001b[1;33m[\u001b[0m\u001b[1;36m0\u001b[0m\u001b[1;33m]\u001b[0m \u001b[1;33m<\u001b[0m \u001b[0mbenchmark_rets\u001b[0m\u001b[1;33m.\u001b[0m\u001b[0mindex\u001b[0m\u001b[1;33m[\u001b[0m\u001b[1;36m0\u001b[0m\u001b[1;33m]\u001b[0m\u001b[1;33m)\u001b[0m\u001b[0;31m \u001b[0m\u001b[0;31m\\\u001b[0m\u001b[1;33m\u001b[0m\u001b[0m\n\u001b[0m\u001b[0;32m    405\u001b[0m             \u001b[1;32mor\u001b[0m \u001b[1;33m(\u001b[0m\u001b[0mrets\u001b[0m\u001b[1;33m.\u001b[0m\u001b[0mindex\u001b[0m\u001b[1;33m[\u001b[0m\u001b[1;33m-\u001b[0m\u001b[1;36m1\u001b[0m\u001b[1;33m]\u001b[0m \u001b[1;33m>\u001b[0m \u001b[0mbenchmark_rets\u001b[0m\u001b[1;33m.\u001b[0m\u001b[0mindex\u001b[0m\u001b[1;33m[\u001b[0m\u001b[1;33m-\u001b[0m\u001b[1;36m1\u001b[0m\u001b[1;33m]\u001b[0m\u001b[1;33m)\u001b[0m\u001b[1;33m:\u001b[0m\u001b[1;33m\u001b[0m\u001b[0m\n\u001b[0;32m    406\u001b[0m         \u001b[0mclipped_rets\u001b[0m \u001b[1;33m=\u001b[0m \u001b[0mrets\u001b[0m\u001b[1;33m[\u001b[0m\u001b[0mbenchmark_rets\u001b[0m\u001b[1;33m.\u001b[0m\u001b[0mindex\u001b[0m\u001b[1;33m]\u001b[0m\u001b[1;33m\u001b[0m\u001b[0m\n",
      "\u001b[1;32mpandas\\_libs\\tslibs\\timestamps.pyx\u001b[0m in \u001b[0;36mpandas._libs.tslibs.timestamps._Timestamp.__richcmp__\u001b[1;34m()\u001b[0m\n",
      "\u001b[1;31mTypeError\u001b[0m: Cannot compare type 'Timestamp' with type 'str'"
     ]
    }
   ],
   "source": [
    "pyfolio_analyze(returns3.rename('Equal_Risk_Contribution_weight'),NDXreturn.rename('Nasdaq100'))"
   ]
  },
  {
   "cell_type": "markdown",
   "metadata": {},
   "source": [
    "### 2.6 Further Research - Market cap and return\n",
    "\n",
    "I believe it is quite important to figure out the logic behind the data. I performed a simple analysis of the relation between the stock weightings in Nasdaq 100 and the corresponding companies' mean daliy return."
   ]
  },
  {
   "cell_type": "code",
   "execution_count": 83,
   "metadata": {
    "scrolled": true
   },
   "outputs": [
    {
     "data": {
      "text/html": [
       "<div>\n",
       "<style>\n",
       "    .dataframe thead tr:only-child th {\n",
       "        text-align: right;\n",
       "    }\n",
       "\n",
       "    .dataframe thead th {\n",
       "        text-align: left;\n",
       "    }\n",
       "\n",
       "    .dataframe tbody tr th {\n",
       "        vertical-align: top;\n",
       "    }\n",
       "</style>\n",
       "<table border=\"1\" class=\"dataframe\">\n",
       "  <thead>\n",
       "    <tr style=\"text-align: right;\">\n",
       "      <th></th>\n",
       "      <th>Weight (%)</th>\n",
       "    </tr>\n",
       "    <tr>\n",
       "      <th>Symbol</th>\n",
       "      <th></th>\n",
       "    </tr>\n",
       "  </thead>\n",
       "  <tbody>\n",
       "    <tr>\n",
       "      <th>AAPL</th>\n",
       "      <td>10.41</td>\n",
       "    </tr>\n",
       "    <tr>\n",
       "      <th>MSFT</th>\n",
       "      <td>8.12</td>\n",
       "    </tr>\n",
       "    <tr>\n",
       "      <th>AMZN</th>\n",
       "      <td>6.53</td>\n",
       "    </tr>\n",
       "    <tr>\n",
       "      <th>FB</th>\n",
       "      <td>5.22</td>\n",
       "    </tr>\n",
       "    <tr>\n",
       "      <th>GOOG</th>\n",
       "      <td>4.81</td>\n",
       "    </tr>\n",
       "    <tr>\n",
       "      <th>GOOGL</th>\n",
       "      <td>4.24</td>\n",
       "    </tr>\n",
       "    <tr>\n",
       "      <th>INTC</th>\n",
       "      <td>3.00</td>\n",
       "    </tr>\n",
       "    <tr>\n",
       "      <th>CMCSA</th>\n",
       "      <td>2.96</td>\n",
       "    </tr>\n",
       "    <tr>\n",
       "      <th>CSCO</th>\n",
       "      <td>2.80</td>\n",
       "    </tr>\n",
       "    <tr>\n",
       "      <th>AMGN</th>\n",
       "      <td>2.36</td>\n",
       "    </tr>\n",
       "  </tbody>\n",
       "</table>\n",
       "</div>"
      ],
      "text/plain": [
       "        Weight (%)\n",
       "Symbol            \n",
       "AAPL         10.41\n",
       "MSFT          8.12\n",
       "AMZN          6.53\n",
       "FB            5.22\n",
       "GOOG          4.81\n",
       "GOOGL         4.24\n",
       "INTC          3.00\n",
       "CMCSA         2.96\n",
       "CSCO          2.80\n",
       "AMGN          2.36"
      ]
     },
     "execution_count": 83,
     "metadata": {},
     "output_type": "execute_result"
    }
   ],
   "source": [
    "#Weight top 10\n",
    "NDXweights = pd.read_csv(\"C:/Users/Yunzhe Fang/Desktop/yewno/2. Smart Beta/1.data/nasdaq100Weights.csv\",index_col=\"Symbol\")\n",
    "NDXweights.head(10)"
   ]
  },
  {
   "cell_type": "markdown",
   "metadata": {},
   "source": [
    "The scatter shows that expect for those \"tech giants\" such as Apple and Amazon, most small cap companies have higher returns. "
   ]
  },
  {
   "cell_type": "code",
   "execution_count": 86,
   "metadata": {},
   "outputs": [
    {
     "data": {
      "image/png": "[encoded data removed]",
      "text/plain": [
       "<matplotlib.figure.Figure at 0x201afa4f588>"
      ]
     },
     "metadata": {},
     "output_type": "display_data"
    }
   ],
   "source": [
    "relation = pd.DataFrame(DailyReturn.mean(),columns=[\"Mean Return\"]).rename_axis('Symbol')\n",
    "relation = pd.merge(NDXweights,relation,how=\"inner\",left_index=True, right_index=True)\n",
    "relation.plot(kind='scatter',x=\"Weight (%)\",y=\"Mean Return\",figsize=(5,5)).set_title(\"Market cap and Mean return\")\n",
    "\n",
    "plt.show()"
   ]
  },
  {
   "cell_type": "markdown",
   "metadata": {},
   "source": [
    "## 3 Conclusion\n",
    "<b>Analysis:</font></b><br>\n",
    "I think the most reason that makes these three strategies outperform the benchmark is <b>\"more equally weighted\"</b>. The Nasdaq 100 index is high concentrated, as the top 10 market caps of the Nasdaq 100 account for around 50%. At the same time, big companies usually grew slower than the small companies and have relatively lower returns. That's why when the weightings gets more equally, the portfolio's return gets higher.\n",
    "\n",
    "On the other hand, Nasdaq contains all the high-tech industries. High-tech companies are growing much faster than the traditional companies because of the technology revolution today. I believe Nasdaq is a great market to invest - we invest \"out future\".\n",
    "\n",
    "Still, disadvantages of the three smart beta strategies exists.\n",
    "\n",
    "<b>1. Liquidity limited: </b><br> Most of the small cap companies don't have good liquidity, which means these three smart beta index may not have good liquidity as well, or more transaction costs are required.\n",
    "\n",
    "<b>2. Unstable development: </b><br> Although all the three smart beta strategies are based on risk, unstable development of the small companies would bring us more risk - such as \"disastrous rare events\".\n",
    "\n",
    "<b>3. Market systematic risks: </b><br> such as High-tech bubble. High-tech industries tend to generate bubbles because people could hardly understand and evaluate those technologies.\n"
   ]
  }
 ],
 "metadata": {
  "kernelspec": {
   "display_name": "Python 3",
   "language": "python",
   "name": "python3"
  },
  "language_info": {
   "codemirror_mode": {
    "name": "ipython",
    "version": 3
   },
   "file_extension": ".py",
   "mimetype": "text/x-python",
   "name": "python",
   "nbconvert_exporter": "python",
   "pygments_lexer": "ipython3",
   "version": "3.6.5"
  }
 },
 "nbformat": 4,
 "nbformat_minor": 2
}
